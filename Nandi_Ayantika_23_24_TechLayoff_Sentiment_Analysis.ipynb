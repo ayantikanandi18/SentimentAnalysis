{
  "cells": [
    {
      "cell_type": "code",
      "execution_count": null,
      "metadata": {
        "colab": {
          "base_uri": "https://localhost:8080/"
        },
        "id": "X63Fn3DNHVDK",
        "outputId": "555f31ce-6091-411b-9185-7f6b2cf9e83d"
      },
      "outputs": [
        {
          "output_type": "stream",
          "name": "stdout",
          "text": [
            "Collecting praw\n",
            "  Downloading praw-7.8.1-py3-none-any.whl.metadata (9.4 kB)\n",
            "Collecting vaderSentiment\n",
            "  Downloading vaderSentiment-3.3.2-py2.py3-none-any.whl.metadata (572 bytes)\n",
            "Requirement already satisfied: matplotlib in /usr/local/lib/python3.10/dist-packages (3.8.0)\n",
            "Requirement already satisfied: pandas in /usr/local/lib/python3.10/dist-packages (2.2.2)\n",
            "Requirement already satisfied: nltk in /usr/local/lib/python3.10/dist-packages (3.9.1)\n",
            "Collecting prawcore<3,>=2.4 (from praw)\n",
            "  Downloading prawcore-2.4.0-py3-none-any.whl.metadata (5.0 kB)\n",
            "Collecting update_checker>=0.18 (from praw)\n",
            "  Downloading update_checker-0.18.0-py3-none-any.whl.metadata (2.3 kB)\n",
            "Requirement already satisfied: websocket-client>=0.54.0 in /usr/local/lib/python3.10/dist-packages (from praw) (1.8.0)\n",
            "Requirement already satisfied: requests in /usr/local/lib/python3.10/dist-packages (from vaderSentiment) (2.32.3)\n",
            "Requirement already satisfied: contourpy>=1.0.1 in /usr/local/lib/python3.10/dist-packages (from matplotlib) (1.3.1)\n",
            "Requirement already satisfied: cycler>=0.10 in /usr/local/lib/python3.10/dist-packages (from matplotlib) (0.12.1)\n",
            "Requirement already satisfied: fonttools>=4.22.0 in /usr/local/lib/python3.10/dist-packages (from matplotlib) (4.54.1)\n",
            "Requirement already satisfied: kiwisolver>=1.0.1 in /usr/local/lib/python3.10/dist-packages (from matplotlib) (1.4.7)\n",
            "Requirement already satisfied: numpy<2,>=1.21 in /usr/local/lib/python3.10/dist-packages (from matplotlib) (1.26.4)\n",
            "Requirement already satisfied: packaging>=20.0 in /usr/local/lib/python3.10/dist-packages (from matplotlib) (24.2)\n",
            "Requirement already satisfied: pillow>=6.2.0 in /usr/local/lib/python3.10/dist-packages (from matplotlib) (11.0.0)\n",
            "Requirement already satisfied: pyparsing>=2.3.1 in /usr/local/lib/python3.10/dist-packages (from matplotlib) (3.2.0)\n",
            "Requirement already satisfied: python-dateutil>=2.7 in /usr/local/lib/python3.10/dist-packages (from matplotlib) (2.8.2)\n",
            "Requirement already satisfied: pytz>=2020.1 in /usr/local/lib/python3.10/dist-packages (from pandas) (2024.2)\n",
            "Requirement already satisfied: tzdata>=2022.7 in /usr/local/lib/python3.10/dist-packages (from pandas) (2024.2)\n",
            "Requirement already satisfied: click in /usr/local/lib/python3.10/dist-packages (from nltk) (8.1.7)\n",
            "Requirement already satisfied: joblib in /usr/local/lib/python3.10/dist-packages (from nltk) (1.4.2)\n",
            "Requirement already satisfied: regex>=2021.8.3 in /usr/local/lib/python3.10/dist-packages (from nltk) (2024.9.11)\n",
            "Requirement already satisfied: tqdm in /usr/local/lib/python3.10/dist-packages (from nltk) (4.66.6)\n",
            "Requirement already satisfied: six>=1.5 in /usr/local/lib/python3.10/dist-packages (from python-dateutil>=2.7->matplotlib) (1.16.0)\n",
            "Requirement already satisfied: charset-normalizer<4,>=2 in /usr/local/lib/python3.10/dist-packages (from requests->vaderSentiment) (3.4.0)\n",
            "Requirement already satisfied: idna<4,>=2.5 in /usr/local/lib/python3.10/dist-packages (from requests->vaderSentiment) (3.10)\n",
            "Requirement already satisfied: urllib3<3,>=1.21.1 in /usr/local/lib/python3.10/dist-packages (from requests->vaderSentiment) (2.2.3)\n",
            "Requirement already satisfied: certifi>=2017.4.17 in /usr/local/lib/python3.10/dist-packages (from requests->vaderSentiment) (2024.8.30)\n",
            "Downloading praw-7.8.1-py3-none-any.whl (189 kB)\n",
            "\u001b[2K   \u001b[90m━━━━━━━━━━━━━━━━━━━━━━━━━━━━━━━━━━━━━━━━\u001b[0m \u001b[32m189.3/189.3 kB\u001b[0m \u001b[31m3.7 MB/s\u001b[0m eta \u001b[36m0:00:00\u001b[0m\n",
            "\u001b[?25hDownloading vaderSentiment-3.3.2-py2.py3-none-any.whl (125 kB)\n",
            "\u001b[2K   \u001b[90m━━━━━━━━━━━━━━━━━━━━━━━━━━━━━━━━━━━━━━━━\u001b[0m \u001b[32m126.0/126.0 kB\u001b[0m \u001b[31m10.6 MB/s\u001b[0m eta \u001b[36m0:00:00\u001b[0m\n",
            "\u001b[?25hDownloading prawcore-2.4.0-py3-none-any.whl (17 kB)\n",
            "Downloading update_checker-0.18.0-py3-none-any.whl (7.0 kB)\n",
            "Installing collected packages: vaderSentiment, update_checker, prawcore, praw\n",
            "Successfully installed praw-7.8.1 prawcore-2.4.0 update_checker-0.18.0 vaderSentiment-3.3.2\n"
          ]
        }
      ],
      "source": [
        "!pip install praw vaderSentiment matplotlib pandas nltk"
      ]
    },
    {
      "cell_type": "code",
      "execution_count": null,
      "metadata": {
        "id": "hzE9sGIgKFRD"
      },
      "outputs": [],
      "source": [
        "user_agent=\"smm script by /u/DramaDiva188\""
      ]
    },
    {
      "cell_type": "code",
      "execution_count": null,
      "metadata": {
        "colab": {
          "base_uri": "https://localhost:8080/"
        },
        "id": "ac27rLOZB4cW",
        "outputId": "3b356b44-c7fd-46f4-e831-15fefc43ee66"
      },
      "outputs": [
        {
          "output_type": "stream",
          "name": "stdout",
          "text": [
            "Requirement already satisfied: praw in /usr/local/lib/python3.10/dist-packages (7.8.1)\n",
            "Requirement already satisfied: prawcore<3,>=2.4 in /usr/local/lib/python3.10/dist-packages (from praw) (2.4.0)\n",
            "Requirement already satisfied: update_checker>=0.18 in /usr/local/lib/python3.10/dist-packages (from praw) (0.18.0)\n",
            "Requirement already satisfied: websocket-client>=0.54.0 in /usr/local/lib/python3.10/dist-packages (from praw) (1.8.0)\n",
            "Requirement already satisfied: requests<3.0,>=2.6.0 in /usr/local/lib/python3.10/dist-packages (from prawcore<3,>=2.4->praw) (2.32.3)\n",
            "Requirement already satisfied: charset-normalizer<4,>=2 in /usr/local/lib/python3.10/dist-packages (from requests<3.0,>=2.6.0->prawcore<3,>=2.4->praw) (3.4.0)\n",
            "Requirement already satisfied: idna<4,>=2.5 in /usr/local/lib/python3.10/dist-packages (from requests<3.0,>=2.6.0->prawcore<3,>=2.4->praw) (3.10)\n",
            "Requirement already satisfied: urllib3<3,>=1.21.1 in /usr/local/lib/python3.10/dist-packages (from requests<3.0,>=2.6.0->prawcore<3,>=2.4->praw) (2.2.3)\n",
            "Requirement already satisfied: certifi>=2017.4.17 in /usr/local/lib/python3.10/dist-packages (from requests<3.0,>=2.6.0->prawcore<3,>=2.4->praw) (2024.8.30)\n"
          ]
        }
      ],
      "source": [
        "!pip install praw"
      ]
    },
    {
      "cell_type": "code",
      "execution_count": null,
      "metadata": {
        "id": "jQP0dkFyLCWx"
      },
      "outputs": [],
      "source": [
        "import praw\n",
        "\n",
        "reddit = praw.Reddit(\n",
        "    client_id=\"fwT2vpITg_bNz-7UXg32qA\",\n",
        "    client_secret=\"yksi7GsGKYzJa3ds8gHp6gGHRFPrw\",\n",
        "    user_agent=\"smm script by /u/DramaDiva188\"\n",
        ")"
      ]
    },
    {
      "cell_type": "code",
      "execution_count": null,
      "metadata": {
        "colab": {
          "base_uri": "https://localhost:8080/"
        },
        "id": "KPQYUzVOLEby",
        "outputId": "3b934b8c-9cda-4b4f-e034-d0eb7215d8de"
      },
      "outputs": [
        {
          "output_type": "stream",
          "name": "stdout",
          "text": [
            "Authenticated as: None\n"
          ]
        }
      ],
      "source": [
        "try:\n",
        "    print(\"Authenticated as:\", reddit.user.me())\n",
        "except Exception as e:\n",
        "    print(\"Authentication failed:\", e)"
      ]
    },
    {
      "cell_type": "code",
      "execution_count": null,
      "metadata": {
        "colab": {
          "base_uri": "https://localhost:8080/"
        },
        "id": "3mm-0tJzLGue",
        "outputId": "ec0d4e1f-e424-4a43-8c64-2b7b97285ef2"
      },
      "outputs": [
        {
          "output_type": "stream",
          "name": "stderr",
          "text": [
            "WARNING:praw:It appears that you are using PRAW in an asynchronous environment.\n",
            "It is strongly recommended to use Async PRAW: https://asyncpraw.readthedocs.io.\n",
            "See https://praw.readthedocs.io/en/latest/getting_started/multiple_instances.html#discord-bots-and-asynchronous-environments for more info.\n",
            "\n"
          ]
        },
        {
          "output_type": "stream",
          "name": "stdout",
          "text": [
            "Accessed post title: Hi! We're the hosts of WIRED's new tech culture podcast Uncanny Valley. AM(us)A!\n",
            "Authentication successful (access to public data).\n"
          ]
        }
      ],
      "source": [
        "import praw\n",
        "import pandas as pd\n",
        "from datetime import datetime\n",
        "\n",
        "# Reddit API credentials (without username and password)\n",
        "reddit = praw.Reddit(\n",
        "    client_id=\"fwT2vpITg_bNz-7UXg32qA\",\n",
        "    client_secret=\"yk5i7CsGXKyZa3ds8gHp6gQGHRFPrw\",\n",
        "    user_agent=\"smm script by /u/DramaDiva188\"\n",
        ")\n",
        "\n",
        "# Verify connection by accessing public data\n",
        "try:\n",
        "    subreddit = reddit.subreddit('technology')\n",
        "    for post in subreddit.hot(limit=1):\n",
        "        print(\"Accessed post title:\", post.title)\n",
        "    print(\"Authentication successful (access to public data).\")\n",
        "except Exception as e:\n",
        "    print(\"Failed to access public data:\", e)"
      ]
    },
    {
      "cell_type": "code",
      "source": [
        "import praw\n",
        "import pandas as pd\n",
        "from datetime import datetime\n",
        "import time\n",
        "\n",
        "# Reddit API credentials\n",
        "reddit = praw.Reddit(\n",
        "    client_id=\"fwT2vpITg_bNz-7UXg32qA\",\n",
        "    client_secret=\"yk5i7CsGXKyZa3ds8gHp6gQGHRFPrw\",\n",
        "    user_agent=\"smm script by /u/DramaDiva188\"\n",
        ")\n",
        "\n",
        "# Define subreddits and keywords\n",
        "subreddits = ['technology', 'antiwork', 'cscareerquestions', 'layoffs']\n",
        "keywords = \"layoffs OR job cuts OR economy\"  # Search terms related to the layoffs\n",
        "\n",
        "# Initialize data storage and counters\n",
        "data = []\n",
        "total_collected = 0\n",
        "max_total_posts = 750  # Target number of posts\n",
        "\n",
        "# Collect data using search\n",
        "for subreddit_name in subreddits:\n",
        "    try:\n",
        "        subreddit = reddit.subreddit(subreddit_name)\n",
        "        print(f\"Searching posts in r/{subreddit_name}...\")\n",
        "\n",
        "        # Search posts with specific keywords\n",
        "        for post in subreddit.search(keywords, sort='new', time_filter='all', limit=1000):\n",
        "            post_date = datetime.utcfromtimestamp(post.created_utc).strftime('%Y-%m-%d')\n",
        "\n",
        "            # Add post to data storage if we haven't reached the total limit\n",
        "            if total_collected < max_total_posts:\n",
        "                data.append({\n",
        "                    'subreddit': subreddit_name,\n",
        "                    'title': post.title,\n",
        "                    'created_utc': post.created_utc,\n",
        "                    'score': post.score,\n",
        "                    'date': post_date\n",
        "                })\n",
        "                total_collected += 1\n",
        "\n",
        "            # Stop collecting if we've reached the 750 post limit\n",
        "            if total_collected >= max_total_posts:\n",
        "                break\n",
        "\n",
        "            # Small delay to avoid hitting Reddit's rate limits\n",
        "            time.sleep(0.5)\n",
        "\n",
        "        print(f\"Number of posts collected from r/{subreddit_name}: {total_collected} so far.\")\n",
        "\n",
        "        # Stop the outer loop if the total limit is reached\n",
        "        if total_collected >= max_total_posts:\n",
        "            break\n",
        "\n",
        "    except Exception as e:\n",
        "        print(f\"Error accessing data from {subreddit_name}: {e}\")\n",
        "\n",
        "# Convert collected data to DataFrame\n",
        "df = pd.DataFrame(data)\n",
        "print(\"Data collection complete. Number of posts collected:\", len(df))\n",
        "print(df.head())\n",
        "\n",
        "# Save to CSV for further processing\n",
        "df.to_csv(\"reddit_sentiment_analysis_750_posts.csv\", index=False)\n",
        "print(\"Data saved to 'reddit_sentiment_analysis_750_posts.csv'\")"
      ],
      "metadata": {
        "colab": {
          "base_uri": "https://localhost:8080/"
        },
        "id": "mYEIh2ycBqzG",
        "outputId": "566f2bb1-665f-47d7-ddfc-4cec998c831e"
      },
      "execution_count": null,
      "outputs": [
        {
          "output_type": "stream",
          "name": "stderr",
          "text": [
            "WARNING:praw:It appears that you are using PRAW in an asynchronous environment.\n",
            "It is strongly recommended to use Async PRAW: https://asyncpraw.readthedocs.io.\n",
            "See https://praw.readthedocs.io/en/latest/getting_started/multiple_instances.html#discord-bots-and-asynchronous-environments for more info.\n",
            "\n"
          ]
        },
        {
          "output_type": "stream",
          "name": "stdout",
          "text": [
            "Searching posts in r/technology...\n"
          ]
        },
        {
          "output_type": "stream",
          "name": "stderr",
          "text": [
            "WARNING:praw:It appears that you are using PRAW in an asynchronous environment.\n",
            "It is strongly recommended to use Async PRAW: https://asyncpraw.readthedocs.io.\n",
            "See https://praw.readthedocs.io/en/latest/getting_started/multiple_instances.html#discord-bots-and-asynchronous-environments for more info.\n",
            "\n",
            "WARNING:praw:It appears that you are using PRAW in an asynchronous environment.\n",
            "It is strongly recommended to use Async PRAW: https://asyncpraw.readthedocs.io.\n",
            "See https://praw.readthedocs.io/en/latest/getting_started/multiple_instances.html#discord-bots-and-asynchronous-environments for more info.\n",
            "\n",
            "WARNING:praw:It appears that you are using PRAW in an asynchronous environment.\n",
            "It is strongly recommended to use Async PRAW: https://asyncpraw.readthedocs.io.\n",
            "See https://praw.readthedocs.io/en/latest/getting_started/multiple_instances.html#discord-bots-and-asynchronous-environments for more info.\n",
            "\n"
          ]
        },
        {
          "output_type": "stream",
          "name": "stdout",
          "text": [
            "Number of posts collected from r/technology: 245 so far.\n",
            "Searching posts in r/antiwork...\n"
          ]
        },
        {
          "output_type": "stream",
          "name": "stderr",
          "text": [
            "WARNING:praw:It appears that you are using PRAW in an asynchronous environment.\n",
            "It is strongly recommended to use Async PRAW: https://asyncpraw.readthedocs.io.\n",
            "See https://praw.readthedocs.io/en/latest/getting_started/multiple_instances.html#discord-bots-and-asynchronous-environments for more info.\n",
            "\n",
            "WARNING:praw:It appears that you are using PRAW in an asynchronous environment.\n",
            "It is strongly recommended to use Async PRAW: https://asyncpraw.readthedocs.io.\n",
            "See https://praw.readthedocs.io/en/latest/getting_started/multiple_instances.html#discord-bots-and-asynchronous-environments for more info.\n",
            "\n",
            "WARNING:praw:It appears that you are using PRAW in an asynchronous environment.\n",
            "It is strongly recommended to use Async PRAW: https://asyncpraw.readthedocs.io.\n",
            "See https://praw.readthedocs.io/en/latest/getting_started/multiple_instances.html#discord-bots-and-asynchronous-environments for more info.\n",
            "\n"
          ]
        },
        {
          "output_type": "stream",
          "name": "stdout",
          "text": [
            "Number of posts collected from r/antiwork: 494 so far.\n",
            "Searching posts in r/cscareerquestions...\n"
          ]
        },
        {
          "output_type": "stream",
          "name": "stderr",
          "text": [
            "WARNING:praw:It appears that you are using PRAW in an asynchronous environment.\n",
            "It is strongly recommended to use Async PRAW: https://asyncpraw.readthedocs.io.\n",
            "See https://praw.readthedocs.io/en/latest/getting_started/multiple_instances.html#discord-bots-and-asynchronous-environments for more info.\n",
            "\n",
            "WARNING:praw:It appears that you are using PRAW in an asynchronous environment.\n",
            "It is strongly recommended to use Async PRAW: https://asyncpraw.readthedocs.io.\n",
            "See https://praw.readthedocs.io/en/latest/getting_started/multiple_instances.html#discord-bots-and-asynchronous-environments for more info.\n",
            "\n",
            "WARNING:praw:It appears that you are using PRAW in an asynchronous environment.\n",
            "It is strongly recommended to use Async PRAW: https://asyncpraw.readthedocs.io.\n",
            "See https://praw.readthedocs.io/en/latest/getting_started/multiple_instances.html#discord-bots-and-asynchronous-environments for more info.\n",
            "\n"
          ]
        },
        {
          "output_type": "stream",
          "name": "stdout",
          "text": [
            "Number of posts collected from r/cscareerquestions: 742 so far.\n",
            "Searching posts in r/layoffs...\n",
            "Number of posts collected from r/layoffs: 750 so far.\n",
            "Data collection complete. Number of posts collected: 750\n",
            "    subreddit                                              title  \\\n",
            "0  technology  For the second time this year, NASA’s JPL cent...   \n",
            "1  technology  Meta cuts the price of its ad-free plan by 40 ...   \n",
            "2  technology  Intuitive Machines CEO: ‘We now have the platf...   \n",
            "3  technology  AI may displace 3m jobs but long-term losses ‘...   \n",
            "4  technology  Meta is reportedly rethinking its VR strategy,...   \n",
            "\n",
            "    created_utc  score        date  \n",
            "0  1.731502e+09     16  2024-11-13  \n",
            "1  1.731445e+09      2  2024-11-12  \n",
            "2  1.731384e+09      0  2024-11-12  \n",
            "3  1.731066e+09      8  2024-11-08  \n",
            "4  1.730896e+09     90  2024-11-06  \n",
            "Data saved to 'reddit_sentiment_analysis_750_posts.csv'\n"
          ]
        }
      ]
    },
    {
      "cell_type": "code",
      "source": [
        "import pandas as pd\n",
        "\n",
        "# Load the CSV file\n",
        "file_path = '/content/reddit_sentiment_analysis_750.csv'\n",
        "df = pd.read_csv(file_path)\n",
        "\n",
        "# Convert all rows of 'created_utc' timestamps to regular date format as strings\n",
        "df['Date & Time'] = pd.to_datetime(df['created_utc'], unit='s').dt.strftime('%Y-%m-%d %H:%M:%S')\n",
        "\n",
        "# Save the updated DataFrame with the new 'date' column to a new CSV file\n",
        "output_file_path = 'converted_all_rows.csv'\n",
        "df.to_csv(output_file_path, index=False)\n",
        "\n",
        "print(f\"Data saved to {output_file_path}\")"
      ],
      "metadata": {
        "colab": {
          "base_uri": "https://localhost:8080/"
        },
        "id": "IY6l67sX9963",
        "outputId": "52f03f74-aff8-411b-9deb-ffb5015a402e"
      },
      "execution_count": null,
      "outputs": [
        {
          "output_type": "stream",
          "name": "stdout",
          "text": [
            "Data saved to converted_all_rows.csv\n"
          ]
        }
      ]
    },
    {
      "cell_type": "code",
      "source": [
        "import pandas as pd\n",
        "from datetime import datetime, timedelta\n",
        "\n",
        "# Load the data file\n",
        "file_path = '/content/converted_all_rows.csv'\n",
        "df = pd.read_csv(file_path)\n",
        "\n",
        "# Define date ranges for each phase\n",
        "phases = {\n",
        "    'Initial Concerns and Discussions': ('2022-07-01', '2022-12-31'),\n",
        "    'First Layoffs': ('2023-01-01', '2023-02-28'),\n",
        "    'Peak Layoffs': ('2023-03-01', '2023-05-31'),\n",
        "    'Transition Period': ('2023-06-01', '2023-12-31'),\n",
        "    'Recovery and Future Outlook': ('2024-01-01', '2024-08-31')\n",
        "}\n",
        "\n",
        "# Function to categorize each post based on the 'created_utc' timestamp\n",
        "def categorize_phase(created_utc):\n",
        "    # Convert timestamp to datetime\n",
        "    created_date = datetime.utcfromtimestamp(created_utc)\n",
        "    for phase, (start, end) in phases.items():\n",
        "        if start <= created_date.strftime('%Y-%m-%d') <= end:\n",
        "            return phase\n",
        "    return 'Outside Defined Phases'\n",
        "\n",
        "# Apply the function to create a new column 'phase' in the DataFrame\n",
        "df['phase'] = df['created_utc'].apply(categorize_phase)\n",
        "\n",
        "# Save the modified DataFrame with the new 'phase' column to a CSV file\n",
        "output_path = '/content/reddit_750_with_phases.csv'\n",
        "df.to_csv(output_path, index=False)\n",
        "\n",
        "print(\"Data has been saved to:\", output_path)"
      ],
      "metadata": {
        "colab": {
          "base_uri": "https://localhost:8080/"
        },
        "id": "mtccQAuhKm9k",
        "outputId": "92a311a7-6ed2-4631-ac46-721d459704f8"
      },
      "execution_count": null,
      "outputs": [
        {
          "output_type": "stream",
          "name": "stdout",
          "text": [
            "Data has been saved to: /content/reddit_750_with_phases.csv\n"
          ]
        }
      ]
    },
    {
      "cell_type": "code",
      "source": [
        "# Import necessary libraries\n",
        "import pandas as pd\n",
        "import re\n",
        "import nltk\n",
        "import matplotlib.pyplot as plt\n",
        "import seaborn as sns\n",
        "from datetime import datetime\n",
        "\n",
        "# Download NLTK resources\n",
        "nltk.download('stopwords')\n",
        "nltk.download('vader_lexicon')\n",
        "\n",
        "from nltk.corpus import stopwords\n",
        "from nltk.sentiment.vader import SentimentIntensityAnalyzer\n",
        "\n",
        "# Step 1: Load the dataset\n",
        "file_path = '/content/reddit_750_with_phases.csv'  # Replace with your file path\n",
        "df = pd.read_csv(file_path)\n",
        "\n",
        "# Step 2: Clean Text by Removing Links, Special Characters, and Stop Words\n",
        "def clean_text(text):\n",
        "    text = re.sub(r'http\\S+', '', text)  # Remove URLs\n",
        "    text = re.sub(r'[^A-Za-z\\s]', '', text)  # Remove special characters\n",
        "    stop_words = set(stopwords.words('english'))\n",
        "    text = ' '.join([word for word in text.lower().split() if word not in stop_words])  # Remove stop words\n",
        "    return text\n",
        "\n",
        "# Apply text cleaning to the 'title' column\n",
        "df['cleaned_title'] = df['title'].apply(clean_text)\n",
        "\n",
        "# Step 3: Sentiment Analysis using VADER, including extreme categories\n",
        "sid = SentimentIntensityAnalyzer()\n",
        "\n",
        "# Function to categorize sentiment based on compound score\n",
        "def categorize_sentiment(compound_score):\n",
        "    if compound_score == 1:\n",
        "        return 'extremely positive'\n",
        "    elif compound_score >= 0.05:\n",
        "        return 'positive'\n",
        "    elif compound_score == -1:\n",
        "        return 'extremely negative'\n",
        "    elif compound_score <= -0.05:\n",
        "        return 'negative'\n",
        "    else:\n",
        "        return 'neutral'\n",
        "\n",
        "# Calculate the compound score and apply sentiment categorization\n",
        "df['compound'] = df['cleaned_title'].apply(lambda x: sid.polarity_scores(x)['compound'])\n",
        "df['sentiment'] = df['compound'].apply(categorize_sentiment)"
      ],
      "metadata": {
        "colab": {
          "base_uri": "https://localhost:8080/"
        },
        "id": "u0_8rblQMEKA",
        "outputId": "06444051-288e-4e22-fe09-9f86cbe0fa02"
      },
      "execution_count": null,
      "outputs": [
        {
          "output_type": "stream",
          "name": "stderr",
          "text": [
            "[nltk_data] Downloading package stopwords to /root/nltk_data...\n",
            "[nltk_data]   Unzipping corpora/stopwords.zip.\n",
            "[nltk_data] Downloading package vader_lexicon to /root/nltk_data...\n"
          ]
        }
      ]
    },
    {
      "cell_type": "code",
      "execution_count": null,
      "metadata": {
        "colab": {
          "base_uri": "https://localhost:8080/"
        },
        "id": "GSJw8ZPFw7lR",
        "outputId": "7fb2c749-4969-4c9c-fd6f-3fe6268bd974"
      },
      "outputs": [
        {
          "output_type": "stream",
          "name": "stdout",
          "text": [
            "Files saved successfully:\n",
            "1. 'cleaned_data.csv' - contains original and cleaned titles with phases\n",
            "2. 'data_with_sentiment_scores.csv' - includes sentiment scores and classifications\n"
          ]
        }
      ],
      "source": [
        "# Save cleaned data (with cleaned text column) to CSV\n",
        "df[['title', 'cleaned_title', 'created_utc', 'phase']].to_csv('cleaned_data.csv', index=False)\n",
        "\n",
        "# Save data with sentiment scores to CSV\n",
        "df[['title', 'cleaned_title', 'created_utc', 'phase', 'compound', 'sentiment']].to_csv('data_with_sentiment_scores.csv', index=False)\n",
        "\n",
        "# Display message indicating successful file saving\n",
        "print(\"Files saved successfully:\")\n",
        "print(\"1. 'cleaned_data.csv' - contains original and cleaned titles with phases\")\n",
        "print(\"2. 'data_with_sentiment_scores.csv' - includes sentiment scores and classifications\")"
      ]
    },
    {
      "cell_type": "code",
      "source": [
        "# Import necessary libraries\n",
        "import pandas as pd\n",
        "import re\n",
        "import nltk\n",
        "from nltk.corpus import stopwords\n",
        "from nltk.sentiment.vader import SentimentIntensityAnalyzer\n",
        "\n",
        "# Download NLTK resources\n",
        "nltk.download('stopwords')\n",
        "nltk.download('vader_lexicon')\n",
        "\n",
        "# Step 1: Load the dataset\n",
        "file_path = '/content/reddit_750_with_phases.csv'  # Replace with your file path\n",
        "df = pd.read_csv(file_path)\n",
        "\n",
        "# Step 2: Clean Text by Removing Links, Special Characters, and Stop Words\n",
        "def clean_text(text):\n",
        "    text = re.sub(r'http\\S+', '', text)  # Remove URLs\n",
        "    text = re.sub(r'[^A-Za-z\\s]', '', text)  # Remove special characters\n",
        "    stop_words = set(stopwords.words('english'))\n",
        "    text = ' '.join([word for word in text.lower().split() if word not in stop_words])  # Remove stop words\n",
        "    return text\n",
        "\n",
        "# Apply text cleaning to the 'title' column\n",
        "df['cleaned_title'] = df['title'].apply(clean_text)\n",
        "\n",
        "# Step 3: Sentiment Analysis using VADER\n",
        "sid = SentimentIntensityAnalyzer()\n",
        "\n",
        "# Function to categorize sentiment based on compound score\n",
        "def categorize_sentiment(compound_score):\n",
        "    if compound_score > 0.6:\n",
        "        return 'very positive'\n",
        "    elif 0.2 <= compound_score <= 0.6:\n",
        "        return 'positive'\n",
        "    elif -0.2 <= compound_score < 0.2:\n",
        "        return 'near neutral'\n",
        "    elif -0.6 <= compound_score < -0.2:\n",
        "        return 'negative'\n",
        "    else:\n",
        "        return 'very negative'\n",
        "\n",
        "# Calculate the compound score and apply sentiment categorization\n",
        "df['compound'] = df['cleaned_title'].apply(lambda x: sid.polarity_scores(x)['compound'])\n",
        "df['sentiment'] = df['compound'].apply(categorize_sentiment)\n",
        "\n",
        "# Display the updated DataFrame to verify the results\n",
        "print(df[['title', 'cleaned_title', 'compound', 'sentiment']].head())\n",
        "\n",
        "# Save the results to a new CSV file if needed\n",
        "df.to_csv('reddit_sentiment_analysis_results.csv', index=False)"
      ],
      "metadata": {
        "colab": {
          "base_uri": "https://localhost:8080/"
        },
        "id": "NP6UQ-yVnrBg",
        "outputId": "a42a3cd6-7d7a-4ca3-9cea-51a217c4b0c4"
      },
      "execution_count": null,
      "outputs": [
        {
          "output_type": "stream",
          "name": "stderr",
          "text": [
            "[nltk_data] Downloading package stopwords to /root/nltk_data...\n",
            "[nltk_data]   Package stopwords is already up-to-date!\n",
            "[nltk_data] Downloading package vader_lexicon to /root/nltk_data...\n",
            "[nltk_data]   Package vader_lexicon is already up-to-date!\n"
          ]
        },
        {
          "output_type": "stream",
          "name": "stdout",
          "text": [
            "                                               title  \\\n",
            "0  For the second time this year, NASA’s JPL cent...   \n",
            "1  Meta cuts the price of its ad-free plan by 40 ...   \n",
            "2  Intuitive Machines CEO: ‘We now have the platf...   \n",
            "3  AI may displace 3m jobs but long-term losses ‘...   \n",
            "4  Meta is reportedly rethinking its VR strategy,...   \n",
            "\n",
            "                                       cleaned_title  compound     sentiment  \n",
            "0   second time year nasas jpl center cuts workforce   -0.2960      negative  \n",
            "1  meta cuts price adfree plan percent bid sate e...   -0.2960      negative  \n",
            "2      intuitive machines ceo platform lunar economy    0.0000  near neutral  \n",
            "3  ai may displace jobs longterm losses relativel...   -0.4019      negative  \n",
            "4  meta reportedly rethinking vr strategy cutting...   -0.1280  near neutral  \n"
          ]
        }
      ]
    },
    {
      "cell_type": "code",
      "source": [
        "# Import necessary libraries\n",
        "import pandas as pd\n",
        "import matplotlib.pyplot as plt\n",
        "import seaborn as sns\n",
        "\n",
        "# Load data from CSV file\n",
        "df = pd.read_csv('/content/reddit_sentiment_analysis_results.csv')  # Replace with the actual file path\n",
        "\n",
        "# Step 4: Visualize Sentiment Distribution\n",
        "\n",
        "# Overall sentiment distribution as a pie chart\n",
        "sentiment_totals = df['sentiment'].value_counts()\n",
        "plt.figure(figsize=(8, 8))\n",
        "sentiment_totals.plot(kind='pie', autopct='%1.1f%%', startangle=140)\n",
        "plt.title('Overall Sentiment Distribution')\n",
        "plt.ylabel('')  # Remove the y-axis label for a cleaner look\n",
        "plt.show()\n",
        "\n",
        "# Bar plot of sentiment distribution\n",
        "plt.figure(figsize=(10, 6))\n",
        "sns.countplot(data=df, x='sentiment', order=['very positive', 'positive', 'near neutral', 'negative', 'very negative'])\n",
        "plt.title('Sentiment Distribution')\n",
        "plt.xlabel('Sentiment')\n",
        "plt.ylabel('Count')\n",
        "plt.show()"
      ],
      "metadata": {
        "colab": {
          "base_uri": "https://localhost:8080/",
          "height": 1000
        },
        "id": "v6Fk7hpcOl6l",
        "outputId": "8cafdcd2-84c6-4943-cebe-7001f62a3db4"
      },
      "execution_count": null,
      "outputs": [
        {
          "output_type": "display_data",
          "data": {
            "text/plain": [
              "<Figure size 800x800 with 1 Axes>"
            ],
            "image/png": "[encoded data removed]"
          },
          "metadata": {}
        },
        {
          "output_type": "display_data",
          "data": {
            "text/plain": [
              "<Figure size 1000x600 with 1 Axes>"
            ],
            "image/png": "[encoded data removed]"
          },
          "metadata": {}
        }
      ]
    },
    {
      "cell_type": "code",
      "execution_count": null,
      "metadata": {
        "colab": {
          "base_uri": "https://localhost:8080/"
        },
        "id": "6JRsnDJ-xVD3",
        "outputId": "5166c90c-2da5-40d7-e0fd-330c5c6e88b1"
      },
      "outputs": [
        {
          "output_type": "stream",
          "name": "stdout",
          "text": [
            "Requirement already satisfied: plotly in /usr/local/lib/python3.10/dist-packages (5.24.1)\n",
            "Requirement already satisfied: tenacity>=6.2.0 in /usr/local/lib/python3.10/dist-packages (from plotly) (9.0.0)\n",
            "Requirement already satisfied: packaging in /usr/local/lib/python3.10/dist-packages (from plotly) (24.2)\n"
          ]
        }
      ],
      "source": [
        "!pip install plotly"
      ]
    },
    {
      "cell_type": "code",
      "execution_count": null,
      "metadata": {
        "colab": {
          "base_uri": "https://localhost:8080/",
          "height": 1000
        },
        "id": "3zTUXvHuxfSR",
        "outputId": "08f90980-9276-488a-b6fa-ef1d49dddfbb"
      },
      "outputs": [
        {
          "output_type": "display_data",
          "data": {
            "text/html": [
              "<html>\n",
              "<head><meta charset=\"utf-8\" /></head>\n",
              "<body>\n",
              "    <div>            <script src=\"https://cdnjs.cloudflare.com/ajax/libs/mathjax/2.7.5/MathJax.js?config=TeX-AMS-MML_SVG\"></script><script type=\"text/javascript\">if (window.MathJax && window.MathJax.Hub && window.MathJax.Hub.Config) {window.MathJax.Hub.Config({SVG: {font: \"STIX-Web\"}});}</script>                <script type=\"text/javascript\">window.PlotlyConfig = {MathJaxConfig: 'local'};</script>\n",
              "        <script charset=\"utf-8\" src=\"https://cdn.plot.ly/plotly-2.35.2.min.js\"></script>                <div id=\"e1ce5447-a6d8-4e24-b0d1-a12b0dd14400\" class=\"plotly-graph-div\" style=\"height:525px; width:100%;\"></div>            <script type=\"text/javascript\">                                    window.PLOTLYENV=window.PLOTLYENV || {};                                    if (document.getElementById(\"e1ce5447-a6d8-4e24-b0d1-a12b0dd14400\")) {                    Plotly.newPlot(                        \"e1ce5447-a6d8-4e24-b0d1-a12b0dd14400\",                        [{\"alignmentgroup\":\"True\",\"bingroup\":\"x\",\"hovertemplate\":\"compound=%{x}\\u003cbr\\u003ecount=%{y}\\u003cextra\\u003e\\u003c\\u002fextra\\u003e\",\"legendgroup\":\"\",\"marker\":{\"color\":\"#636efa\",\"pattern\":{\"shape\":\"\"}},\"name\":\"\",\"nbinsx\":20,\"offsetgroup\":\"\",\"orientation\":\"v\",\"showlegend\":false,\"x\":[-0.296,-0.296,0.0,-0.4019,-0.128,-0.2732,-0.1531,0.2057,-0.1531,-0.5719,-0.1531,-0.1779,-0.2732,-0.8316,0.0,0.2023,0.4215,0.3612,0.4404,-0.3182,-0.2732,0.0,-0.296,-0.2732,0.0,-0.296,-0.5267,-0.2732,-0.2732,-0.2023,-0.4767,0.25,0.1882,-0.2263,0.0,0.1531,0.0,0.0,-0.296,-0.1531,-0.2542,-0.7003,-0.5994,0.3182,-0.296,0.0,-0.1027,-0.8591,0.7269,-0.6124,-0.4588,0.2732,-0.2732,0.0772,-0.7351,0.0,-0.2732,0.0,0.1779,0.0,-0.4767,0.0,0.0,0.0,-0.2732,-0.2732,0.0,0.7351,0.5859,0.0,0.0,0.0,0.8591,0.4019,0.4767,0.0772,0.0,0.0,-0.2732,-0.2732,0.0,-0.1779,-0.296,-0.5267,0.6369,-0.2732,-0.8225,-0.1027,0.4588,-0.296,-0.8176,0.5859,-0.296,-0.296,0.0,0.0,0.3818,0.2732,0.0,-0.5574,-0.6808,-0.2732,0.0258,-0.3875,0.5423,-0.6705,-0.2732,-0.296,-0.7096,-0.2732,-0.0258,-0.2732,-0.4767,-0.2732,-0.296,-0.7458,0.0,-0.296,0.1531,0.0516,-0.296,-0.296,-0.296,-0.2732,-0.296,0.25,-0.2732,0.4767,-0.3818,-0.2732,0.0,-0.2732,0.0,-0.5267,-0.2732,-0.6369,-0.5574,-0.4939,0.4019,0.25,-0.4767,-0.4767,0.0,-0.2732,0.3995,-0.2732,0.5739,-0.3612,-0.0516,-0.6124,0.0516,-0.4588,-0.296,-0.5719,-0.2732,-0.2732,-0.296,-0.7351,-0.5859,-0.6249,-0.3384,-0.296,0.7579,-0.7269,0.0,-0.2732,-0.4215,-0.4767,0.3412,-0.2263,-0.4215,-0.4939,-0.3612,0.0,-0.296,0.6745,0.5859,-0.34,-0.0516,0.0,0.0,-0.296,0.0772,0.0,-0.4767,0.0,0.0,-0.296,-0.2732,0.25,-0.6124,-0.296,0.4939,0.0,0.0,0.0,-0.296,-0.2732,0.0,0.34,0.1027,-0.2732,0.4588,0.0,0.2023,-0.5106,-0.296,-0.5574,-0.6597,0.0516,-0.2732,0.0772,-0.5859,-0.128,-0.2732,-0.0516,-0.2732,0.0,0.6369,0.0,-0.6808,-0.128,-0.6249,-0.3818,-0.1779,-0.5719,-0.6801,0.0,-0.3182,0.0,0.0,-0.7579,0.3765,0.3612,-0.4215,0.0,-0.471,-0.296,-0.4215,-0.2944,0.0,0.0,0.7096,-0.5423,0.2732,0.0772,0.128,-0.5423,0.0,0.0,-0.1999,-0.5574,-0.4062,0.0,0.34,0.3182,0.0,-0.7688,0.4019,-0.3818,0.1779,-0.4767,0.0,0.0,0.4404,0.0,0.2263,0.0,-0.0572,-0.3612,-0.3612,0.0,-0.296,0.7964,0.0772,0.0,-0.4404,0.0,0.4352,0.0,0.0,-0.7717,0.3182,0.0,0.2584,-0.5574,0.4201,-0.0516,0.3182,-0.4404,0.0,-0.5106,0.0,-0.4404,0.0,-0.5994,-0.3182,-0.296,0.0,-0.128,-0.5267,0.0,-0.6124,0.0,0.0,0.0,0.0,-0.3182,0.0,0.0,0.5837,-0.34,0.3612,-0.5719,0.0,0.0772,-0.34,-0.5574,0.2732,-0.8316,-0.34,0.0,-0.4939,0.0,-0.5719,-0.3612,-0.4404,-0.4404,0.3412,-0.7003,0.3182,-0.5719,0.6124,-0.5106,-0.0516,-0.6597,-0.0516,-0.5423,0.0,-0.5267,-0.5719,0.0,0.0,0.0,0.4404,-0.25,-0.7251,0.0,-0.6167,-0.34,0.0,0.0,-0.128,0.0,-0.3182,-0.3818,0.3818,0.0516,0.0,-0.34,0.0,-0.4215,0.4404,-0.5574,0.0,0.1027,0.0,0.4767,0.4779,0.0,-0.3818,-0.4939,0.0,0.7506,0.0,-0.1779,0.0,-0.0516,0.0,0.0,0.8176,-0.5106,0.2263,-0.5574,-0.4767,0.0,0.0,-0.5423,0.0,0.0,-0.3612,0.0,-0.4767,0.0,0.0,0.5095,-0.3182,-0.6369,-0.5574,-0.5574,0.4404,0.0,0.2263,0.0,0.0,0.5106,0.0,-0.296,0.0772,0.0,0.0762,0.0772,0.0,0.0,0.25,0.6369,0.0,-0.1027,-0.5413,-0.7579,0.0,0.765,0.0,0.0,0.1779,0.357,0.4939,0.0258,0.0,-0.5859,0.6906,-0.7408,-0.5574,0.4585,-0.0516,0.4019,0.0,0.0,0.6124,0.0,0.0,0.0,0.0,0.0,0.0,-0.2023,0.0,-0.7184,0.0,0.4417,0.5106,-0.2023,0.2263,-0.2081,0.0,-0.5859,-0.128,-0.362,0.0,0.3612,0.0,0.0,0.0,0.4019,0.296,0.4939,-0.4767,0.296,0.0,-0.1027,0.0,0.0,0.0,0.0,-0.3818,-0.3182,0.5859,-0.2732,0.0772,-0.765,0.4215,0.0,0.0,0.0,0.1695,-0.7096,0.0,-0.4404,-0.3612,0.0,0.0,-0.7003,0.0,0.0,-0.6249,-0.3612,0.0,0.0,0.0,0.0,-0.4767,-0.3089,0.0,0.0,0.0,0.0,0.0,-0.3612,0.4215,0.0,0.0,0.0,0.0,0.0,0.0,0.0,0.6124,0.2263,0.0,0.0,-0.25,0.0,0.2263,0.0,0.0,0.2023,0.6369,0.3182,0.0,0.0,0.0,0.0,0.0,0.0,-0.1027,0.0,-0.4939,0.0,0.0,-0.6486,0.0,-0.3182,0.2732,0.0,-0.5106,-0.4168,0.0572,0.0,0.4019,0.0,0.0,-0.4215,0.4215,-0.3182,0.0,-0.34,0.2263,0.0,0.0,-0.1531,-0.5423,0.0,0.2263,0.4404,0.0,0.6808,0.0,0.34,0.0,0.0,0.0,-0.1779,0.1779,0.4019,0.0,-0.4404,-0.5423,0.0,0.0,0.0,0.0,0.0,0.0,0.0,0.0,0.128,-0.1779,0.0,0.0,0.0,-0.128,0.0,0.0,0.4019,-0.296,0.2263,0.0,0.4215,0.0,0.0,-0.3612,0.0,0.0,0.0,0.25,0.4019,0.0,-0.34,-0.4019,0.6369,0.0,0.4215,0.0,0.0,0.4588,0.5106,-0.3384,0.0,0.0,-0.5267,0.1779,0.0,0.0,0.0,0.0,0.0,0.0,0.0,0.0,0.0,0.0,0.0,0.0,0.0,0.6908,0.0,-0.128,0.6369,-0.4927,0.0,-0.4927,0.296,0.0772,0.3182,0.0,0.0,-0.5719,0.0,-0.3612,0.128,-0.296,0.0,0.0,0.0,0.0,0.0,0.0,0.34,0.0,0.0,0.0,-0.4404,-0.3182,0.0,0.0,-0.6808,-0.2263,0.0,0.6369,0.0772,-0.5191,0.2023,0.6369,0.4404,0.0,0.3818,0.5106,0.0,0.0,0.3818,0.0,0.7783,0.3182,0.0,0.0,0.0,0.3818,0.0,0.0,0.0,0.0,-0.128,0.0,0.0,0.3612,0.0,0.0,-0.5574,0.128,0.5106,0.5719,0.2023,0.0,0.4215,0.0,-0.4588,0.0,0.0,0.25,0.0,-0.743,-0.6597,0.3361,0.0,0.0,0.5267,0.6369,0.0,0.0,0.0,-0.4767,-0.1027,0.0,-0.4767,0.6369,0.4404,0.0,0.25,0.4019,0.0,0.0,0.5106,0.0772,0.0,0.0,0.0772,-0.4404,0.5106,0.0,-0.5106,0.0,0.7579,0.0,0.0,0.0,0.0,0.0,0.0,-0.3612,-0.4588],\"xaxis\":\"x\",\"yaxis\":\"y\",\"type\":\"histogram\"}],                        {\"template\":{\"data\":{\"histogram2dcontour\":[{\"type\":\"histogram2dcontour\",\"colorbar\":{\"outlinewidth\":0,\"ticks\":\"\"},\"colorscale\":[[0.0,\"#0d0887\"],[0.1111111111111111,\"#46039f\"],[0.2222222222222222,\"#7201a8\"],[0.3333333333333333,\"#9c179e\"],[0.4444444444444444,\"#bd3786\"],[0.5555555555555556,\"#d8576b\"],[0.6666666666666666,\"#ed7953\"],[0.7777777777777778,\"#fb9f3a\"],[0.8888888888888888,\"#fdca26\"],[1.0,\"#f0f921\"]]}],\"choropleth\":[{\"type\":\"choropleth\",\"colorbar\":{\"outlinewidth\":0,\"ticks\":\"\"}}],\"histogram2d\":[{\"type\":\"histogram2d\",\"colorbar\":{\"outlinewidth\":0,\"ticks\":\"\"},\"colorscale\":[[0.0,\"#0d0887\"],[0.1111111111111111,\"#46039f\"],[0.2222222222222222,\"#7201a8\"],[0.3333333333333333,\"#9c179e\"],[0.4444444444444444,\"#bd3786\"],[0.5555555555555556,\"#d8576b\"],[0.6666666666666666,\"#ed7953\"],[0.7777777777777778,\"#fb9f3a\"],[0.8888888888888888,\"#fdca26\"],[1.0,\"#f0f921\"]]}],\"heatmap\":[{\"type\":\"heatmap\",\"colorbar\":{\"outlinewidth\":0,\"ticks\":\"\"},\"colorscale\":[[0.0,\"#0d0887\"],[0.1111111111111111,\"#46039f\"],[0.2222222222222222,\"#7201a8\"],[0.3333333333333333,\"#9c179e\"],[0.4444444444444444,\"#bd3786\"],[0.5555555555555556,\"#d8576b\"],[0.6666666666666666,\"#ed7953\"],[0.7777777777777778,\"#fb9f3a\"],[0.8888888888888888,\"#fdca26\"],[1.0,\"#f0f921\"]]}],\"heatmapgl\":[{\"type\":\"heatmapgl\",\"colorbar\":{\"outlinewidth\":0,\"ticks\":\"\"},\"colorscale\":[[0.0,\"#0d0887\"],[0.1111111111111111,\"#46039f\"],[0.2222222222222222,\"#7201a8\"],[0.3333333333333333,\"#9c179e\"],[0.4444444444444444,\"#bd3786\"],[0.5555555555555556,\"#d8576b\"],[0.6666666666666666,\"#ed7953\"],[0.7777777777777778,\"#fb9f3a\"],[0.8888888888888888,\"#fdca26\"],[1.0,\"#f0f921\"]]}],\"contourcarpet\":[{\"type\":\"contourcarpet\",\"colorbar\":{\"outlinewidth\":0,\"ticks\":\"\"}}],\"contour\":[{\"type\":\"contour\",\"colorbar\":{\"outlinewidth\":0,\"ticks\":\"\"},\"colorscale\":[[0.0,\"#0d0887\"],[0.1111111111111111,\"#46039f\"],[0.2222222222222222,\"#7201a8\"],[0.3333333333333333,\"#9c179e\"],[0.4444444444444444,\"#bd3786\"],[0.5555555555555556,\"#d8576b\"],[0.6666666666666666,\"#ed7953\"],[0.7777777777777778,\"#fb9f3a\"],[0.8888888888888888,\"#fdca26\"],[1.0,\"#f0f921\"]]}],\"surface\":[{\"type\":\"surface\",\"colorbar\":{\"outlinewidth\":0,\"ticks\":\"\"},\"colorscale\":[[0.0,\"#0d0887\"],[0.1111111111111111,\"#46039f\"],[0.2222222222222222,\"#7201a8\"],[0.3333333333333333,\"#9c179e\"],[0.4444444444444444,\"#bd3786\"],[0.5555555555555556,\"#d8576b\"],[0.6666666666666666,\"#ed7953\"],[0.7777777777777778,\"#fb9f3a\"],[0.8888888888888888,\"#fdca26\"],[1.0,\"#f0f921\"]]}],\"mesh3d\":[{\"type\":\"mesh3d\",\"colorbar\":{\"outlinewidth\":0,\"ticks\":\"\"}}],\"scatter\":[{\"fillpattern\":{\"fillmode\":\"overlay\",\"size\":10,\"solidity\":0.2},\"type\":\"scatter\"}],\"parcoords\":[{\"type\":\"parcoords\",\"line\":{\"colorbar\":{\"outlinewidth\":0,\"ticks\":\"\"}}}],\"scatterpolargl\":[{\"type\":\"scatterpolargl\",\"marker\":{\"colorbar\":{\"outlinewidth\":0,\"ticks\":\"\"}}}],\"bar\":[{\"error_x\":{\"color\":\"#2a3f5f\"},\"error_y\":{\"color\":\"#2a3f5f\"},\"marker\":{\"line\":{\"color\":\"#E5ECF6\",\"width\":0.5},\"pattern\":{\"fillmode\":\"overlay\",\"size\":10,\"solidity\":0.2}},\"type\":\"bar\"}],\"scattergeo\":[{\"type\":\"scattergeo\",\"marker\":{\"colorbar\":{\"outlinewidth\":0,\"ticks\":\"\"}}}],\"scatterpolar\":[{\"type\":\"scatterpolar\",\"marker\":{\"colorbar\":{\"outlinewidth\":0,\"ticks\":\"\"}}}],\"histogram\":[{\"marker\":{\"pattern\":{\"fillmode\":\"overlay\",\"size\":10,\"solidity\":0.2}},\"type\":\"histogram\"}],\"scattergl\":[{\"type\":\"scattergl\",\"marker\":{\"colorbar\":{\"outlinewidth\":0,\"ticks\":\"\"}}}],\"scatter3d\":[{\"type\":\"scatter3d\",\"line\":{\"colorbar\":{\"outlinewidth\":0,\"ticks\":\"\"}},\"marker\":{\"colorbar\":{\"outlinewidth\":0,\"ticks\":\"\"}}}],\"scattermapbox\":[{\"type\":\"scattermapbox\",\"marker\":{\"colorbar\":{\"outlinewidth\":0,\"ticks\":\"\"}}}],\"scatterternary\":[{\"type\":\"scatterternary\",\"marker\":{\"colorbar\":{\"outlinewidth\":0,\"ticks\":\"\"}}}],\"scattercarpet\":[{\"type\":\"scattercarpet\",\"marker\":{\"colorbar\":{\"outlinewidth\":0,\"ticks\":\"\"}}}],\"carpet\":[{\"aaxis\":{\"endlinecolor\":\"#2a3f5f\",\"gridcolor\":\"white\",\"linecolor\":\"white\",\"minorgridcolor\":\"white\",\"startlinecolor\":\"#2a3f5f\"},\"baxis\":{\"endlinecolor\":\"#2a3f5f\",\"gridcolor\":\"white\",\"linecolor\":\"white\",\"minorgridcolor\":\"white\",\"startlinecolor\":\"#2a3f5f\"},\"type\":\"carpet\"}],\"table\":[{\"cells\":{\"fill\":{\"color\":\"#EBF0F8\"},\"line\":{\"color\":\"white\"}},\"header\":{\"fill\":{\"color\":\"#C8D4E3\"},\"line\":{\"color\":\"white\"}},\"type\":\"table\"}],\"barpolar\":[{\"marker\":{\"line\":{\"color\":\"#E5ECF6\",\"width\":0.5},\"pattern\":{\"fillmode\":\"overlay\",\"size\":10,\"solidity\":0.2}},\"type\":\"barpolar\"}],\"pie\":[{\"automargin\":true,\"type\":\"pie\"}]},\"layout\":{\"autotypenumbers\":\"strict\",\"colorway\":[\"#636efa\",\"#EF553B\",\"#00cc96\",\"#ab63fa\",\"#FFA15A\",\"#19d3f3\",\"#FF6692\",\"#B6E880\",\"#FF97FF\",\"#FECB52\"],\"font\":{\"color\":\"#2a3f5f\"},\"hovermode\":\"closest\",\"hoverlabel\":{\"align\":\"left\"},\"paper_bgcolor\":\"white\",\"plot_bgcolor\":\"#E5ECF6\",\"polar\":{\"bgcolor\":\"#E5ECF6\",\"angularaxis\":{\"gridcolor\":\"white\",\"linecolor\":\"white\",\"ticks\":\"\"},\"radialaxis\":{\"gridcolor\":\"white\",\"linecolor\":\"white\",\"ticks\":\"\"}},\"ternary\":{\"bgcolor\":\"#E5ECF6\",\"aaxis\":{\"gridcolor\":\"white\",\"linecolor\":\"white\",\"ticks\":\"\"},\"baxis\":{\"gridcolor\":\"white\",\"linecolor\":\"white\",\"ticks\":\"\"},\"caxis\":{\"gridcolor\":\"white\",\"linecolor\":\"white\",\"ticks\":\"\"}},\"coloraxis\":{\"colorbar\":{\"outlinewidth\":0,\"ticks\":\"\"}},\"colorscale\":{\"sequential\":[[0.0,\"#0d0887\"],[0.1111111111111111,\"#46039f\"],[0.2222222222222222,\"#7201a8\"],[0.3333333333333333,\"#9c179e\"],[0.4444444444444444,\"#bd3786\"],[0.5555555555555556,\"#d8576b\"],[0.6666666666666666,\"#ed7953\"],[0.7777777777777778,\"#fb9f3a\"],[0.8888888888888888,\"#fdca26\"],[1.0,\"#f0f921\"]],\"sequentialminus\":[[0.0,\"#0d0887\"],[0.1111111111111111,\"#46039f\"],[0.2222222222222222,\"#7201a8\"],[0.3333333333333333,\"#9c179e\"],[0.4444444444444444,\"#bd3786\"],[0.5555555555555556,\"#d8576b\"],[0.6666666666666666,\"#ed7953\"],[0.7777777777777778,\"#fb9f3a\"],[0.8888888888888888,\"#fdca26\"],[1.0,\"#f0f921\"]],\"diverging\":[[0,\"#8e0152\"],[0.1,\"#c51b7d\"],[0.2,\"#de77ae\"],[0.3,\"#f1b6da\"],[0.4,\"#fde0ef\"],[0.5,\"#f7f7f7\"],[0.6,\"#e6f5d0\"],[0.7,\"#b8e186\"],[0.8,\"#7fbc41\"],[0.9,\"#4d9221\"],[1,\"#276419\"]]},\"xaxis\":{\"gridcolor\":\"white\",\"linecolor\":\"white\",\"ticks\":\"\",\"title\":{\"standoff\":15},\"zerolinecolor\":\"white\",\"automargin\":true,\"zerolinewidth\":2},\"yaxis\":{\"gridcolor\":\"white\",\"linecolor\":\"white\",\"ticks\":\"\",\"title\":{\"standoff\":15},\"zerolinecolor\":\"white\",\"automargin\":true,\"zerolinewidth\":2},\"scene\":{\"xaxis\":{\"backgroundcolor\":\"#E5ECF6\",\"gridcolor\":\"white\",\"linecolor\":\"white\",\"showbackground\":true,\"ticks\":\"\",\"zerolinecolor\":\"white\",\"gridwidth\":2},\"yaxis\":{\"backgroundcolor\":\"#E5ECF6\",\"gridcolor\":\"white\",\"linecolor\":\"white\",\"showbackground\":true,\"ticks\":\"\",\"zerolinecolor\":\"white\",\"gridwidth\":2},\"zaxis\":{\"backgroundcolor\":\"#E5ECF6\",\"gridcolor\":\"white\",\"linecolor\":\"white\",\"showbackground\":true,\"ticks\":\"\",\"zerolinecolor\":\"white\",\"gridwidth\":2}},\"shapedefaults\":{\"line\":{\"color\":\"#2a3f5f\"}},\"annotationdefaults\":{\"arrowcolor\":\"#2a3f5f\",\"arrowhead\":0,\"arrowwidth\":1},\"geo\":{\"bgcolor\":\"white\",\"landcolor\":\"#E5ECF6\",\"subunitcolor\":\"white\",\"showland\":true,\"showlakes\":true,\"lakecolor\":\"white\"},\"title\":{\"x\":0.05},\"mapbox\":{\"style\":\"light\"}}},\"xaxis\":{\"anchor\":\"y\",\"domain\":[0.0,1.0],\"title\":{\"text\":\"Compound Sentiment Score\"}},\"yaxis\":{\"anchor\":\"x\",\"domain\":[0.0,1.0],\"title\":{\"text\":\"Count\"}},\"legend\":{\"tracegroupgap\":0},\"title\":{\"text\":\"Distribution of Sentiment Compound Scores\"},\"barmode\":\"relative\"},                        {\"responsive\": true}                    ).then(function(){\n",
              "                            \n",
              "var gd = document.getElementById('e1ce5447-a6d8-4e24-b0d1-a12b0dd14400');\n",
              "var x = new MutationObserver(function (mutations, observer) {{\n",
              "        var display = window.getComputedStyle(gd).display;\n",
              "        if (!display || display === 'none') {{\n",
              "            console.log([gd, 'removed!']);\n",
              "            Plotly.purge(gd);\n",
              "            observer.disconnect();\n",
              "        }}\n",
              "}});\n",
              "\n",
              "// Listen for the removal of the full notebook cells\n",
              "var notebookContainer = gd.closest('#notebook-container');\n",
              "if (notebookContainer) {{\n",
              "    x.observe(notebookContainer, {childList: true});\n",
              "}}\n",
              "\n",
              "// Listen for the clearing of the current output cell\n",
              "var outputEl = gd.closest('.output');\n",
              "if (outputEl) {{\n",
              "    x.observe(outputEl, {childList: true});\n",
              "}}\n",
              "\n",
              "                        })                };                            </script>        </div>\n",
              "</body>\n",
              "</html>"
            ]
          },
          "metadata": {}
        },
        {
          "output_type": "display_data",
          "data": {
            "text/html": [
              "<html>\n",
              "<head><meta charset=\"utf-8\" /></head>\n",
              "<body>\n",
              "    <div>            <script src=\"https://cdnjs.cloudflare.com/ajax/libs/mathjax/2.7.5/MathJax.js?config=TeX-AMS-MML_SVG\"></script><script type=\"text/javascript\">if (window.MathJax && window.MathJax.Hub && window.MathJax.Hub.Config) {window.MathJax.Hub.Config({SVG: {font: \"STIX-Web\"}});}</script>                <script type=\"text/javascript\">window.PlotlyConfig = {MathJaxConfig: 'local'};</script>\n",
              "        <script charset=\"utf-8\" src=\"https://cdn.plot.ly/plotly-2.35.2.min.js\"></script>                <div id=\"ab7ead89-bfb6-4310-b7c3-4fd184e32748\" class=\"plotly-graph-div\" style=\"height:525px; width:100%;\"></div>            <script type=\"text/javascript\">                                    window.PLOTLYENV=window.PLOTLYENV || {};                                    if (document.getElementById(\"ab7ead89-bfb6-4310-b7c3-4fd184e32748\")) {                    Plotly.newPlot(                        \"ab7ead89-bfb6-4310-b7c3-4fd184e32748\",                        [{\"alignmentgroup\":\"True\",\"hovertemplate\":\"sentiment=near neutral\\u003cbr\\u003ephase=%{x}\\u003cbr\\u003ecount=%{y}\\u003cextra\\u003e\\u003c\\u002fextra\\u003e\",\"legendgroup\":\"near neutral\",\"marker\":{\"color\":\"#636efa\",\"pattern\":{\"shape\":\"\"}},\"name\":\"near neutral\",\"offsetgroup\":\"near neutral\",\"orientation\":\"v\",\"showlegend\":true,\"textposition\":\"auto\",\"x\":[\"First Layoffs\",\"Initial Concerns and Discussions\",\"Peak Layoffs\",\"Recovery and Future Outlook\",\"Transition Period\"],\"xaxis\":\"x\",\"y\":[29,82,34,109,100],\"yaxis\":\"y\",\"type\":\"bar\"},{\"alignmentgroup\":\"True\",\"hovertemplate\":\"sentiment=negative\\u003cbr\\u003ephase=%{x}\\u003cbr\\u003ecount=%{y}\\u003cextra\\u003e\\u003c\\u002fextra\\u003e\",\"legendgroup\":\"negative\",\"marker\":{\"color\":\"#EF553B\",\"pattern\":{\"shape\":\"\"}},\"name\":\"negative\",\"offsetgroup\":\"negative\",\"orientation\":\"v\",\"showlegend\":true,\"textposition\":\"auto\",\"x\":[\"First Layoffs\",\"Initial Concerns and Discussions\",\"Peak Layoffs\",\"Recovery and Future Outlook\",\"Transition Period\"],\"xaxis\":\"x\",\"y\":[19,56,17,63,55],\"yaxis\":\"y\",\"type\":\"bar\"},{\"alignmentgroup\":\"True\",\"hovertemplate\":\"sentiment=positive\\u003cbr\\u003ephase=%{x}\\u003cbr\\u003ecount=%{y}\\u003cextra\\u003e\\u003c\\u002fextra\\u003e\",\"legendgroup\":\"positive\",\"marker\":{\"color\":\"#00cc96\",\"pattern\":{\"shape\":\"\"}},\"name\":\"positive\",\"offsetgroup\":\"positive\",\"orientation\":\"v\",\"showlegend\":true,\"textposition\":\"auto\",\"x\":[\"First Layoffs\",\"Initial Concerns and Discussions\",\"Peak Layoffs\",\"Recovery and Future Outlook\",\"Transition Period\"],\"xaxis\":\"x\",\"y\":[3,33,15,36,29],\"yaxis\":\"y\",\"type\":\"bar\"},{\"alignmentgroup\":\"True\",\"hovertemplate\":\"sentiment=very negative\\u003cbr\\u003ephase=%{x}\\u003cbr\\u003ecount=%{y}\\u003cextra\\u003e\\u003c\\u002fextra\\u003e\",\"legendgroup\":\"very negative\",\"marker\":{\"color\":\"#ab63fa\",\"pattern\":{\"shape\":\"\"}},\"name\":\"very negative\",\"offsetgroup\":\"very negative\",\"orientation\":\"v\",\"showlegend\":true,\"textposition\":\"auto\",\"x\":[\"First Layoffs\",\"Initial Concerns and Discussions\",\"Peak Layoffs\",\"Recovery and Future Outlook\",\"Transition Period\"],\"xaxis\":\"x\",\"y\":[1,9,6,17,9],\"yaxis\":\"y\",\"type\":\"bar\"},{\"alignmentgroup\":\"True\",\"hovertemplate\":\"sentiment=very positive\\u003cbr\\u003ephase=%{x}\\u003cbr\\u003ecount=%{y}\\u003cextra\\u003e\\u003c\\u002fextra\\u003e\",\"legendgroup\":\"very positive\",\"marker\":{\"color\":\"#FFA15A\",\"pattern\":{\"shape\":\"\"}},\"name\":\"very positive\",\"offsetgroup\":\"very positive\",\"orientation\":\"v\",\"showlegend\":true,\"textposition\":\"auto\",\"x\":[\"First Layoffs\",\"Initial Concerns and Discussions\",\"Peak Layoffs\",\"Recovery and Future Outlook\",\"Transition Period\"],\"xaxis\":\"x\",\"y\":[1,7,3,7,10],\"yaxis\":\"y\",\"type\":\"bar\"}],                        {\"template\":{\"data\":{\"histogram2dcontour\":[{\"type\":\"histogram2dcontour\",\"colorbar\":{\"outlinewidth\":0,\"ticks\":\"\"},\"colorscale\":[[0.0,\"#0d0887\"],[0.1111111111111111,\"#46039f\"],[0.2222222222222222,\"#7201a8\"],[0.3333333333333333,\"#9c179e\"],[0.4444444444444444,\"#bd3786\"],[0.5555555555555556,\"#d8576b\"],[0.6666666666666666,\"#ed7953\"],[0.7777777777777778,\"#fb9f3a\"],[0.8888888888888888,\"#fdca26\"],[1.0,\"#f0f921\"]]}],\"choropleth\":[{\"type\":\"choropleth\",\"colorbar\":{\"outlinewidth\":0,\"ticks\":\"\"}}],\"histogram2d\":[{\"type\":\"histogram2d\",\"colorbar\":{\"outlinewidth\":0,\"ticks\":\"\"},\"colorscale\":[[0.0,\"#0d0887\"],[0.1111111111111111,\"#46039f\"],[0.2222222222222222,\"#7201a8\"],[0.3333333333333333,\"#9c179e\"],[0.4444444444444444,\"#bd3786\"],[0.5555555555555556,\"#d8576b\"],[0.6666666666666666,\"#ed7953\"],[0.7777777777777778,\"#fb9f3a\"],[0.8888888888888888,\"#fdca26\"],[1.0,\"#f0f921\"]]}],\"heatmap\":[{\"type\":\"heatmap\",\"colorbar\":{\"outlinewidth\":0,\"ticks\":\"\"},\"colorscale\":[[0.0,\"#0d0887\"],[0.1111111111111111,\"#46039f\"],[0.2222222222222222,\"#7201a8\"],[0.3333333333333333,\"#9c179e\"],[0.4444444444444444,\"#bd3786\"],[0.5555555555555556,\"#d8576b\"],[0.6666666666666666,\"#ed7953\"],[0.7777777777777778,\"#fb9f3a\"],[0.8888888888888888,\"#fdca26\"],[1.0,\"#f0f921\"]]}],\"heatmapgl\":[{\"type\":\"heatmapgl\",\"colorbar\":{\"outlinewidth\":0,\"ticks\":\"\"},\"colorscale\":[[0.0,\"#0d0887\"],[0.1111111111111111,\"#46039f\"],[0.2222222222222222,\"#7201a8\"],[0.3333333333333333,\"#9c179e\"],[0.4444444444444444,\"#bd3786\"],[0.5555555555555556,\"#d8576b\"],[0.6666666666666666,\"#ed7953\"],[0.7777777777777778,\"#fb9f3a\"],[0.8888888888888888,\"#fdca26\"],[1.0,\"#f0f921\"]]}],\"contourcarpet\":[{\"type\":\"contourcarpet\",\"colorbar\":{\"outlinewidth\":0,\"ticks\":\"\"}}],\"contour\":[{\"type\":\"contour\",\"colorbar\":{\"outlinewidth\":0,\"ticks\":\"\"},\"colorscale\":[[0.0,\"#0d0887\"],[0.1111111111111111,\"#46039f\"],[0.2222222222222222,\"#7201a8\"],[0.3333333333333333,\"#9c179e\"],[0.4444444444444444,\"#bd3786\"],[0.5555555555555556,\"#d8576b\"],[0.6666666666666666,\"#ed7953\"],[0.7777777777777778,\"#fb9f3a\"],[0.8888888888888888,\"#fdca26\"],[1.0,\"#f0f921\"]]}],\"surface\":[{\"type\":\"surface\",\"colorbar\":{\"outlinewidth\":0,\"ticks\":\"\"},\"colorscale\":[[0.0,\"#0d0887\"],[0.1111111111111111,\"#46039f\"],[0.2222222222222222,\"#7201a8\"],[0.3333333333333333,\"#9c179e\"],[0.4444444444444444,\"#bd3786\"],[0.5555555555555556,\"#d8576b\"],[0.6666666666666666,\"#ed7953\"],[0.7777777777777778,\"#fb9f3a\"],[0.8888888888888888,\"#fdca26\"],[1.0,\"#f0f921\"]]}],\"mesh3d\":[{\"type\":\"mesh3d\",\"colorbar\":{\"outlinewidth\":0,\"ticks\":\"\"}}],\"scatter\":[{\"fillpattern\":{\"fillmode\":\"overlay\",\"size\":10,\"solidity\":0.2},\"type\":\"scatter\"}],\"parcoords\":[{\"type\":\"parcoords\",\"line\":{\"colorbar\":{\"outlinewidth\":0,\"ticks\":\"\"}}}],\"scatterpolargl\":[{\"type\":\"scatterpolargl\",\"marker\":{\"colorbar\":{\"outlinewidth\":0,\"ticks\":\"\"}}}],\"bar\":[{\"error_x\":{\"color\":\"#2a3f5f\"},\"error_y\":{\"color\":\"#2a3f5f\"},\"marker\":{\"line\":{\"color\":\"#E5ECF6\",\"width\":0.5},\"pattern\":{\"fillmode\":\"overlay\",\"size\":10,\"solidity\":0.2}},\"type\":\"bar\"}],\"scattergeo\":[{\"type\":\"scattergeo\",\"marker\":{\"colorbar\":{\"outlinewidth\":0,\"ticks\":\"\"}}}],\"scatterpolar\":[{\"type\":\"scatterpolar\",\"marker\":{\"colorbar\":{\"outlinewidth\":0,\"ticks\":\"\"}}}],\"histogram\":[{\"marker\":{\"pattern\":{\"fillmode\":\"overlay\",\"size\":10,\"solidity\":0.2}},\"type\":\"histogram\"}],\"scattergl\":[{\"type\":\"scattergl\",\"marker\":{\"colorbar\":{\"outlinewidth\":0,\"ticks\":\"\"}}}],\"scatter3d\":[{\"type\":\"scatter3d\",\"line\":{\"colorbar\":{\"outlinewidth\":0,\"ticks\":\"\"}},\"marker\":{\"colorbar\":{\"outlinewidth\":0,\"ticks\":\"\"}}}],\"scattermapbox\":[{\"type\":\"scattermapbox\",\"marker\":{\"colorbar\":{\"outlinewidth\":0,\"ticks\":\"\"}}}],\"scatterternary\":[{\"type\":\"scatterternary\",\"marker\":{\"colorbar\":{\"outlinewidth\":0,\"ticks\":\"\"}}}],\"scattercarpet\":[{\"type\":\"scattercarpet\",\"marker\":{\"colorbar\":{\"outlinewidth\":0,\"ticks\":\"\"}}}],\"carpet\":[{\"aaxis\":{\"endlinecolor\":\"#2a3f5f\",\"gridcolor\":\"white\",\"linecolor\":\"white\",\"minorgridcolor\":\"white\",\"startlinecolor\":\"#2a3f5f\"},\"baxis\":{\"endlinecolor\":\"#2a3f5f\",\"gridcolor\":\"white\",\"linecolor\":\"white\",\"minorgridcolor\":\"white\",\"startlinecolor\":\"#2a3f5f\"},\"type\":\"carpet\"}],\"table\":[{\"cells\":{\"fill\":{\"color\":\"#EBF0F8\"},\"line\":{\"color\":\"white\"}},\"header\":{\"fill\":{\"color\":\"#C8D4E3\"},\"line\":{\"color\":\"white\"}},\"type\":\"table\"}],\"barpolar\":[{\"marker\":{\"line\":{\"color\":\"#E5ECF6\",\"width\":0.5},\"pattern\":{\"fillmode\":\"overlay\",\"size\":10,\"solidity\":0.2}},\"type\":\"barpolar\"}],\"pie\":[{\"automargin\":true,\"type\":\"pie\"}]},\"layout\":{\"autotypenumbers\":\"strict\",\"colorway\":[\"#636efa\",\"#EF553B\",\"#00cc96\",\"#ab63fa\",\"#FFA15A\",\"#19d3f3\",\"#FF6692\",\"#B6E880\",\"#FF97FF\",\"#FECB52\"],\"font\":{\"color\":\"#2a3f5f\"},\"hovermode\":\"closest\",\"hoverlabel\":{\"align\":\"left\"},\"paper_bgcolor\":\"white\",\"plot_bgcolor\":\"#E5ECF6\",\"polar\":{\"bgcolor\":\"#E5ECF6\",\"angularaxis\":{\"gridcolor\":\"white\",\"linecolor\":\"white\",\"ticks\":\"\"},\"radialaxis\":{\"gridcolor\":\"white\",\"linecolor\":\"white\",\"ticks\":\"\"}},\"ternary\":{\"bgcolor\":\"#E5ECF6\",\"aaxis\":{\"gridcolor\":\"white\",\"linecolor\":\"white\",\"ticks\":\"\"},\"baxis\":{\"gridcolor\":\"white\",\"linecolor\":\"white\",\"ticks\":\"\"},\"caxis\":{\"gridcolor\":\"white\",\"linecolor\":\"white\",\"ticks\":\"\"}},\"coloraxis\":{\"colorbar\":{\"outlinewidth\":0,\"ticks\":\"\"}},\"colorscale\":{\"sequential\":[[0.0,\"#0d0887\"],[0.1111111111111111,\"#46039f\"],[0.2222222222222222,\"#7201a8\"],[0.3333333333333333,\"#9c179e\"],[0.4444444444444444,\"#bd3786\"],[0.5555555555555556,\"#d8576b\"],[0.6666666666666666,\"#ed7953\"],[0.7777777777777778,\"#fb9f3a\"],[0.8888888888888888,\"#fdca26\"],[1.0,\"#f0f921\"]],\"sequentialminus\":[[0.0,\"#0d0887\"],[0.1111111111111111,\"#46039f\"],[0.2222222222222222,\"#7201a8\"],[0.3333333333333333,\"#9c179e\"],[0.4444444444444444,\"#bd3786\"],[0.5555555555555556,\"#d8576b\"],[0.6666666666666666,\"#ed7953\"],[0.7777777777777778,\"#fb9f3a\"],[0.8888888888888888,\"#fdca26\"],[1.0,\"#f0f921\"]],\"diverging\":[[0,\"#8e0152\"],[0.1,\"#c51b7d\"],[0.2,\"#de77ae\"],[0.3,\"#f1b6da\"],[0.4,\"#fde0ef\"],[0.5,\"#f7f7f7\"],[0.6,\"#e6f5d0\"],[0.7,\"#b8e186\"],[0.8,\"#7fbc41\"],[0.9,\"#4d9221\"],[1,\"#276419\"]]},\"xaxis\":{\"gridcolor\":\"white\",\"linecolor\":\"white\",\"ticks\":\"\",\"title\":{\"standoff\":15},\"zerolinecolor\":\"white\",\"automargin\":true,\"zerolinewidth\":2},\"yaxis\":{\"gridcolor\":\"white\",\"linecolor\":\"white\",\"ticks\":\"\",\"title\":{\"standoff\":15},\"zerolinecolor\":\"white\",\"automargin\":true,\"zerolinewidth\":2},\"scene\":{\"xaxis\":{\"backgroundcolor\":\"#E5ECF6\",\"gridcolor\":\"white\",\"linecolor\":\"white\",\"showbackground\":true,\"ticks\":\"\",\"zerolinecolor\":\"white\",\"gridwidth\":2},\"yaxis\":{\"backgroundcolor\":\"#E5ECF6\",\"gridcolor\":\"white\",\"linecolor\":\"white\",\"showbackground\":true,\"ticks\":\"\",\"zerolinecolor\":\"white\",\"gridwidth\":2},\"zaxis\":{\"backgroundcolor\":\"#E5ECF6\",\"gridcolor\":\"white\",\"linecolor\":\"white\",\"showbackground\":true,\"ticks\":\"\",\"zerolinecolor\":\"white\",\"gridwidth\":2}},\"shapedefaults\":{\"line\":{\"color\":\"#2a3f5f\"}},\"annotationdefaults\":{\"arrowcolor\":\"#2a3f5f\",\"arrowhead\":0,\"arrowwidth\":1},\"geo\":{\"bgcolor\":\"white\",\"landcolor\":\"#E5ECF6\",\"subunitcolor\":\"white\",\"showland\":true,\"showlakes\":true,\"lakecolor\":\"white\"},\"title\":{\"x\":0.05},\"mapbox\":{\"style\":\"light\"}}},\"xaxis\":{\"anchor\":\"y\",\"domain\":[0.0,1.0],\"title\":{\"text\":\"Phase\"}},\"yaxis\":{\"anchor\":\"x\",\"domain\":[0.0,1.0],\"title\":{\"text\":\"Count\"}},\"legend\":{\"title\":{\"text\":\"sentiment\"},\"tracegroupgap\":0},\"title\":{\"text\":\"Sentiment Count by Phase\"},\"barmode\":\"relative\"},                        {\"responsive\": true}                    ).then(function(){\n",
              "                            \n",
              "var gd = document.getElementById('ab7ead89-bfb6-4310-b7c3-4fd184e32748');\n",
              "var x = new MutationObserver(function (mutations, observer) {{\n",
              "        var display = window.getComputedStyle(gd).display;\n",
              "        if (!display || display === 'none') {{\n",
              "            console.log([gd, 'removed!']);\n",
              "            Plotly.purge(gd);\n",
              "            observer.disconnect();\n",
              "        }}\n",
              "}});\n",
              "\n",
              "// Listen for the removal of the full notebook cells\n",
              "var notebookContainer = gd.closest('#notebook-container');\n",
              "if (notebookContainer) {{\n",
              "    x.observe(notebookContainer, {childList: true});\n",
              "}}\n",
              "\n",
              "// Listen for the clearing of the current output cell\n",
              "var outputEl = gd.closest('.output');\n",
              "if (outputEl) {{\n",
              "    x.observe(outputEl, {childList: true});\n",
              "}}\n",
              "\n",
              "                        })                };                            </script>        </div>\n",
              "</body>\n",
              "</html>"
            ]
          },
          "metadata": {}
        }
      ],
      "source": [
        "import pandas as pd\n",
        "import plotly.express as px\n",
        "\n",
        "# Load data from the last provided dataset\n",
        "df = pd.read_csv('/content/reddit_sentiment_analysis_results.csv')  # Replace with actual path\n",
        "\n",
        "# Interactive Histogram: Sentiment Compound Score Distribution\n",
        "fig_hist = px.histogram(df, x='compound', nbins=20, title='Distribution of Sentiment Compound Scores')\n",
        "fig_hist.update_xaxes(title_text='Compound Sentiment Score')\n",
        "fig_hist.update_yaxes(title_text='Count')\n",
        "fig_hist.show()\n",
        "\n",
        "# Interactive Bar Chart: Sentiment Count by Phase\n",
        "sentiment_by_phase = df.groupby(['phase', 'sentiment']).size().reset_index(name='count')\n",
        "fig_bar = px.bar(sentiment_by_phase, x='phase', y='count', color='sentiment', title='Sentiment Count by Phase')\n",
        "fig_bar.update_xaxes(title_text='Phase')\n",
        "fig_bar.update_yaxes(title_text='Count')\n",
        "fig_bar.show()\n"
      ]
    },
    {
      "cell_type": "code",
      "source": [
        "import pandas as pd\n",
        "import plotly.express as px\n",
        "\n",
        "# Load data from CSV file\n",
        "file_path = '/content/reddit_sentiment_analysis_results.csv'  # Replace with your actual file path\n",
        "df = pd.read_csv(file_path)\n",
        "\n",
        "# Prepare data for the heatmap by counting occurrences of each sentiment\n",
        "sentiment_counts = df['sentiment'].value_counts().reindex(\n",
        "    ['extremely positive', 'positive', 'neutral', 'negative', 'extremely negative']\n",
        ").fillna(0)\n",
        "\n",
        "# Convert to DataFrame for heatmap visualization\n",
        "sentiment_df = pd.DataFrame(sentiment_counts).transpose()\n",
        "\n",
        "# Define a custom discrete color scale for distinct colors\n",
        "color_scale = [\"#FF5733\", \"#33FF57\", \"#3357FF\", \"#FF33A6\", \"#33FFF6\"]\n",
        "\n",
        "# Plot the heatmap with a custom color scale for distinct categories\n",
        "fig = px.imshow(\n",
        "    sentiment_df,\n",
        "    labels=dict(x=\"Sentiment\", y=\"\", color=\"Count\"),\n",
        "    x=['extremely positive', 'positive', 'neutral', 'negative', 'extremely negative'],\n",
        "    title=\"Distinct Sentiment Distribution Heatmap\",\n",
        "    color_continuous_scale=color_scale\n",
        ")\n",
        "\n",
        "# Customize layout\n",
        "fig.update_layout(title_font_size=24, coloraxis_colorbar=dict(title=\"Count\"))\n",
        "fig.update_xaxes(side=\"top\")\n",
        "\n",
        "# Display the interactive plot\n",
        "fig.show()"
      ],
      "metadata": {
        "colab": {
          "base_uri": "https://localhost:8080/",
          "height": 542
        },
        "id": "AMxRcPb_So47",
        "outputId": "202cbbe6-2322-49e5-e0de-aea6146149ec"
      },
      "execution_count": null,
      "outputs": [
        {
          "output_type": "display_data",
          "data": {
            "text/html": [
              "<html>\n",
              "<head><meta charset=\"utf-8\" /></head>\n",
              "<body>\n",
              "    <div>            <script src=\"https://cdnjs.cloudflare.com/ajax/libs/mathjax/2.7.5/MathJax.js?config=TeX-AMS-MML_SVG\"></script><script type=\"text/javascript\">if (window.MathJax && window.MathJax.Hub && window.MathJax.Hub.Config) {window.MathJax.Hub.Config({SVG: {font: \"STIX-Web\"}});}</script>                <script type=\"text/javascript\">window.PlotlyConfig = {MathJaxConfig: 'local'};</script>\n",
              "        <script charset=\"utf-8\" src=\"https://cdn.plot.ly/plotly-2.35.2.min.js\"></script>                <div id=\"5082b4f4-8b86-4862-9a5c-ee2492c92fa5\" class=\"plotly-graph-div\" style=\"height:525px; width:100%;\"></div>            <script type=\"text/javascript\">                                    window.PLOTLYENV=window.PLOTLYENV || {};                                    if (document.getElementById(\"5082b4f4-8b86-4862-9a5c-ee2492c92fa5\")) {                    Plotly.newPlot(                        \"5082b4f4-8b86-4862-9a5c-ee2492c92fa5\",                        [{\"coloraxis\":\"coloraxis\",\"name\":\"0\",\"x\":[\"extremely positive\",\"positive\",\"neutral\",\"negative\",\"extremely negative\"],\"y\":[\"count\"],\"z\":[[0.0,116.0,0.0,210.0,0.0]],\"type\":\"heatmap\",\"xaxis\":\"x\",\"yaxis\":\"y\",\"hovertemplate\":\"Sentiment: %{x}\\u003cbr\\u003ey: %{y}\\u003cbr\\u003eCount: %{z}\\u003cextra\\u003e\\u003c\\u002fextra\\u003e\"}],                        {\"template\":{\"data\":{\"histogram2dcontour\":[{\"type\":\"histogram2dcontour\",\"colorbar\":{\"outlinewidth\":0,\"ticks\":\"\"},\"colorscale\":[[0.0,\"#0d0887\"],[0.1111111111111111,\"#46039f\"],[0.2222222222222222,\"#7201a8\"],[0.3333333333333333,\"#9c179e\"],[0.4444444444444444,\"#bd3786\"],[0.5555555555555556,\"#d8576b\"],[0.6666666666666666,\"#ed7953\"],[0.7777777777777778,\"#fb9f3a\"],[0.8888888888888888,\"#fdca26\"],[1.0,\"#f0f921\"]]}],\"choropleth\":[{\"type\":\"choropleth\",\"colorbar\":{\"outlinewidth\":0,\"ticks\":\"\"}}],\"histogram2d\":[{\"type\":\"histogram2d\",\"colorbar\":{\"outlinewidth\":0,\"ticks\":\"\"},\"colorscale\":[[0.0,\"#0d0887\"],[0.1111111111111111,\"#46039f\"],[0.2222222222222222,\"#7201a8\"],[0.3333333333333333,\"#9c179e\"],[0.4444444444444444,\"#bd3786\"],[0.5555555555555556,\"#d8576b\"],[0.6666666666666666,\"#ed7953\"],[0.7777777777777778,\"#fb9f3a\"],[0.8888888888888888,\"#fdca26\"],[1.0,\"#f0f921\"]]}],\"heatmap\":[{\"type\":\"heatmap\",\"colorbar\":{\"outlinewidth\":0,\"ticks\":\"\"},\"colorscale\":[[0.0,\"#0d0887\"],[0.1111111111111111,\"#46039f\"],[0.2222222222222222,\"#7201a8\"],[0.3333333333333333,\"#9c179e\"],[0.4444444444444444,\"#bd3786\"],[0.5555555555555556,\"#d8576b\"],[0.6666666666666666,\"#ed7953\"],[0.7777777777777778,\"#fb9f3a\"],[0.8888888888888888,\"#fdca26\"],[1.0,\"#f0f921\"]]}],\"heatmapgl\":[{\"type\":\"heatmapgl\",\"colorbar\":{\"outlinewidth\":0,\"ticks\":\"\"},\"colorscale\":[[0.0,\"#0d0887\"],[0.1111111111111111,\"#46039f\"],[0.2222222222222222,\"#7201a8\"],[0.3333333333333333,\"#9c179e\"],[0.4444444444444444,\"#bd3786\"],[0.5555555555555556,\"#d8576b\"],[0.6666666666666666,\"#ed7953\"],[0.7777777777777778,\"#fb9f3a\"],[0.8888888888888888,\"#fdca26\"],[1.0,\"#f0f921\"]]}],\"contourcarpet\":[{\"type\":\"contourcarpet\",\"colorbar\":{\"outlinewidth\":0,\"ticks\":\"\"}}],\"contour\":[{\"type\":\"contour\",\"colorbar\":{\"outlinewidth\":0,\"ticks\":\"\"},\"colorscale\":[[0.0,\"#0d0887\"],[0.1111111111111111,\"#46039f\"],[0.2222222222222222,\"#7201a8\"],[0.3333333333333333,\"#9c179e\"],[0.4444444444444444,\"#bd3786\"],[0.5555555555555556,\"#d8576b\"],[0.6666666666666666,\"#ed7953\"],[0.7777777777777778,\"#fb9f3a\"],[0.8888888888888888,\"#fdca26\"],[1.0,\"#f0f921\"]]}],\"surface\":[{\"type\":\"surface\",\"colorbar\":{\"outlinewidth\":0,\"ticks\":\"\"},\"colorscale\":[[0.0,\"#0d0887\"],[0.1111111111111111,\"#46039f\"],[0.2222222222222222,\"#7201a8\"],[0.3333333333333333,\"#9c179e\"],[0.4444444444444444,\"#bd3786\"],[0.5555555555555556,\"#d8576b\"],[0.6666666666666666,\"#ed7953\"],[0.7777777777777778,\"#fb9f3a\"],[0.8888888888888888,\"#fdca26\"],[1.0,\"#f0f921\"]]}],\"mesh3d\":[{\"type\":\"mesh3d\",\"colorbar\":{\"outlinewidth\":0,\"ticks\":\"\"}}],\"scatter\":[{\"fillpattern\":{\"fillmode\":\"overlay\",\"size\":10,\"solidity\":0.2},\"type\":\"scatter\"}],\"parcoords\":[{\"type\":\"parcoords\",\"line\":{\"colorbar\":{\"outlinewidth\":0,\"ticks\":\"\"}}}],\"scatterpolargl\":[{\"type\":\"scatterpolargl\",\"marker\":{\"colorbar\":{\"outlinewidth\":0,\"ticks\":\"\"}}}],\"bar\":[{\"error_x\":{\"color\":\"#2a3f5f\"},\"error_y\":{\"color\":\"#2a3f5f\"},\"marker\":{\"line\":{\"color\":\"#E5ECF6\",\"width\":0.5},\"pattern\":{\"fillmode\":\"overlay\",\"size\":10,\"solidity\":0.2}},\"type\":\"bar\"}],\"scattergeo\":[{\"type\":\"scattergeo\",\"marker\":{\"colorbar\":{\"outlinewidth\":0,\"ticks\":\"\"}}}],\"scatterpolar\":[{\"type\":\"scatterpolar\",\"marker\":{\"colorbar\":{\"outlinewidth\":0,\"ticks\":\"\"}}}],\"histogram\":[{\"marker\":{\"pattern\":{\"fillmode\":\"overlay\",\"size\":10,\"solidity\":0.2}},\"type\":\"histogram\"}],\"scattergl\":[{\"type\":\"scattergl\",\"marker\":{\"colorbar\":{\"outlinewidth\":0,\"ticks\":\"\"}}}],\"scatter3d\":[{\"type\":\"scatter3d\",\"line\":{\"colorbar\":{\"outlinewidth\":0,\"ticks\":\"\"}},\"marker\":{\"colorbar\":{\"outlinewidth\":0,\"ticks\":\"\"}}}],\"scattermapbox\":[{\"type\":\"scattermapbox\",\"marker\":{\"colorbar\":{\"outlinewidth\":0,\"ticks\":\"\"}}}],\"scatterternary\":[{\"type\":\"scatterternary\",\"marker\":{\"colorbar\":{\"outlinewidth\":0,\"ticks\":\"\"}}}],\"scattercarpet\":[{\"type\":\"scattercarpet\",\"marker\":{\"colorbar\":{\"outlinewidth\":0,\"ticks\":\"\"}}}],\"carpet\":[{\"aaxis\":{\"endlinecolor\":\"#2a3f5f\",\"gridcolor\":\"white\",\"linecolor\":\"white\",\"minorgridcolor\":\"white\",\"startlinecolor\":\"#2a3f5f\"},\"baxis\":{\"endlinecolor\":\"#2a3f5f\",\"gridcolor\":\"white\",\"linecolor\":\"white\",\"minorgridcolor\":\"white\",\"startlinecolor\":\"#2a3f5f\"},\"type\":\"carpet\"}],\"table\":[{\"cells\":{\"fill\":{\"color\":\"#EBF0F8\"},\"line\":{\"color\":\"white\"}},\"header\":{\"fill\":{\"color\":\"#C8D4E3\"},\"line\":{\"color\":\"white\"}},\"type\":\"table\"}],\"barpolar\":[{\"marker\":{\"line\":{\"color\":\"#E5ECF6\",\"width\":0.5},\"pattern\":{\"fillmode\":\"overlay\",\"size\":10,\"solidity\":0.2}},\"type\":\"barpolar\"}],\"pie\":[{\"automargin\":true,\"type\":\"pie\"}]},\"layout\":{\"autotypenumbers\":\"strict\",\"colorway\":[\"#636efa\",\"#EF553B\",\"#00cc96\",\"#ab63fa\",\"#FFA15A\",\"#19d3f3\",\"#FF6692\",\"#B6E880\",\"#FF97FF\",\"#FECB52\"],\"font\":{\"color\":\"#2a3f5f\"},\"hovermode\":\"closest\",\"hoverlabel\":{\"align\":\"left\"},\"paper_bgcolor\":\"white\",\"plot_bgcolor\":\"#E5ECF6\",\"polar\":{\"bgcolor\":\"#E5ECF6\",\"angularaxis\":{\"gridcolor\":\"white\",\"linecolor\":\"white\",\"ticks\":\"\"},\"radialaxis\":{\"gridcolor\":\"white\",\"linecolor\":\"white\",\"ticks\":\"\"}},\"ternary\":{\"bgcolor\":\"#E5ECF6\",\"aaxis\":{\"gridcolor\":\"white\",\"linecolor\":\"white\",\"ticks\":\"\"},\"baxis\":{\"gridcolor\":\"white\",\"linecolor\":\"white\",\"ticks\":\"\"},\"caxis\":{\"gridcolor\":\"white\",\"linecolor\":\"white\",\"ticks\":\"\"}},\"coloraxis\":{\"colorbar\":{\"outlinewidth\":0,\"ticks\":\"\"}},\"colorscale\":{\"sequential\":[[0.0,\"#0d0887\"],[0.1111111111111111,\"#46039f\"],[0.2222222222222222,\"#7201a8\"],[0.3333333333333333,\"#9c179e\"],[0.4444444444444444,\"#bd3786\"],[0.5555555555555556,\"#d8576b\"],[0.6666666666666666,\"#ed7953\"],[0.7777777777777778,\"#fb9f3a\"],[0.8888888888888888,\"#fdca26\"],[1.0,\"#f0f921\"]],\"sequentialminus\":[[0.0,\"#0d0887\"],[0.1111111111111111,\"#46039f\"],[0.2222222222222222,\"#7201a8\"],[0.3333333333333333,\"#9c179e\"],[0.4444444444444444,\"#bd3786\"],[0.5555555555555556,\"#d8576b\"],[0.6666666666666666,\"#ed7953\"],[0.7777777777777778,\"#fb9f3a\"],[0.8888888888888888,\"#fdca26\"],[1.0,\"#f0f921\"]],\"diverging\":[[0,\"#8e0152\"],[0.1,\"#c51b7d\"],[0.2,\"#de77ae\"],[0.3,\"#f1b6da\"],[0.4,\"#fde0ef\"],[0.5,\"#f7f7f7\"],[0.6,\"#e6f5d0\"],[0.7,\"#b8e186\"],[0.8,\"#7fbc41\"],[0.9,\"#4d9221\"],[1,\"#276419\"]]},\"xaxis\":{\"gridcolor\":\"white\",\"linecolor\":\"white\",\"ticks\":\"\",\"title\":{\"standoff\":15},\"zerolinecolor\":\"white\",\"automargin\":true,\"zerolinewidth\":2},\"yaxis\":{\"gridcolor\":\"white\",\"linecolor\":\"white\",\"ticks\":\"\",\"title\":{\"standoff\":15},\"zerolinecolor\":\"white\",\"automargin\":true,\"zerolinewidth\":2},\"scene\":{\"xaxis\":{\"backgroundcolor\":\"#E5ECF6\",\"gridcolor\":\"white\",\"linecolor\":\"white\",\"showbackground\":true,\"ticks\":\"\",\"zerolinecolor\":\"white\",\"gridwidth\":2},\"yaxis\":{\"backgroundcolor\":\"#E5ECF6\",\"gridcolor\":\"white\",\"linecolor\":\"white\",\"showbackground\":true,\"ticks\":\"\",\"zerolinecolor\":\"white\",\"gridwidth\":2},\"zaxis\":{\"backgroundcolor\":\"#E5ECF6\",\"gridcolor\":\"white\",\"linecolor\":\"white\",\"showbackground\":true,\"ticks\":\"\",\"zerolinecolor\":\"white\",\"gridwidth\":2}},\"shapedefaults\":{\"line\":{\"color\":\"#2a3f5f\"}},\"annotationdefaults\":{\"arrowcolor\":\"#2a3f5f\",\"arrowhead\":0,\"arrowwidth\":1},\"geo\":{\"bgcolor\":\"white\",\"landcolor\":\"#E5ECF6\",\"subunitcolor\":\"white\",\"showland\":true,\"showlakes\":true,\"lakecolor\":\"white\"},\"title\":{\"x\":0.05},\"mapbox\":{\"style\":\"light\"}}},\"xaxis\":{\"anchor\":\"y\",\"domain\":[0.0,1.0],\"scaleanchor\":\"y\",\"constrain\":\"domain\",\"title\":{\"text\":\"Sentiment\"},\"side\":\"top\"},\"yaxis\":{\"anchor\":\"x\",\"domain\":[0.0,1.0],\"autorange\":\"reversed\",\"constrain\":\"domain\"},\"coloraxis\":{\"colorbar\":{\"title\":{\"text\":\"Count\"}},\"colorscale\":[[0.0,\"#FF5733\"],[0.25,\"#33FF57\"],[0.5,\"#3357FF\"],[0.75,\"#FF33A6\"],[1.0,\"#33FFF6\"]]},\"title\":{\"text\":\"Distinct Sentiment Distribution Heatmap\",\"font\":{\"size\":24}}},                        {\"responsive\": true}                    ).then(function(){\n",
              "                            \n",
              "var gd = document.getElementById('5082b4f4-8b86-4862-9a5c-ee2492c92fa5');\n",
              "var x = new MutationObserver(function (mutations, observer) {{\n",
              "        var display = window.getComputedStyle(gd).display;\n",
              "        if (!display || display === 'none') {{\n",
              "            console.log([gd, 'removed!']);\n",
              "            Plotly.purge(gd);\n",
              "            observer.disconnect();\n",
              "        }}\n",
              "}});\n",
              "\n",
              "// Listen for the removal of the full notebook cells\n",
              "var notebookContainer = gd.closest('#notebook-container');\n",
              "if (notebookContainer) {{\n",
              "    x.observe(notebookContainer, {childList: true});\n",
              "}}\n",
              "\n",
              "// Listen for the clearing of the current output cell\n",
              "var outputEl = gd.closest('.output');\n",
              "if (outputEl) {{\n",
              "    x.observe(outputEl, {childList: true});\n",
              "}}\n",
              "\n",
              "                        })                };                            </script>        </div>\n",
              "</body>\n",
              "</html>"
            ]
          },
          "metadata": {}
        }
      ]
    },
    {
      "cell_type": "code",
      "source": [
        "import pandas as pd\n",
        "import plotly.express as px\n",
        "\n",
        "# Load data from the dataset\n",
        "df = pd.read_csv('/content/reddit_sentiment_analysis_results.csv')  # Replace with actual path\n",
        "\n",
        "# Ensure the 'Date & Time' column is in datetime format\n",
        "df['Date & Time'] = pd.to_datetime(df['Date & Time'])\n",
        "\n",
        "# Sort data by 'Date & Time' for proper time-series visualization\n",
        "df = df.sort_values(by='Date & Time')\n",
        "\n",
        "# Plotting a line chart to visualize compound sentiment score over time\n",
        "fig_time_series = px.line(\n",
        "    df,\n",
        "    x='Date & Time',\n",
        "    y='compound',\n",
        "    title='Sentiment Progression Over Time',\n",
        "    labels={'Date & Time': 'Date & Time', 'compound': 'Compound Sentiment Score'},\n",
        "    markers=True\n",
        ")\n",
        "\n",
        "# Update axes titles and layout for clarity\n",
        "fig_time_series.update_xaxes(title_text='Date & Time')\n",
        "fig_time_series.update_yaxes(title_text='Compound Sentiment Score')\n",
        "fig_time_series.update_layout(showlegend=False)\n",
        "\n",
        "fig_time_series.show()"
      ],
      "metadata": {
        "colab": {
          "base_uri": "https://localhost:8080/",
          "height": 542
        },
        "id": "0nwBC-HXEMHM",
        "outputId": "8c9c918d-3883-4a44-ab8a-49879ac3ffef"
      },
      "execution_count": null,
      "outputs": [
        {
          "output_type": "display_data",
          "data": {
            "text/html": [
              "<html>\n",
              "<head><meta charset=\"utf-8\" /></head>\n",
              "<body>\n",
              "    <div>            <script src=\"https://cdnjs.cloudflare.com/ajax/libs/mathjax/2.7.5/MathJax.js?config=TeX-AMS-MML_SVG\"></script><script type=\"text/javascript\">if (window.MathJax && window.MathJax.Hub && window.MathJax.Hub.Config) {window.MathJax.Hub.Config({SVG: {font: \"STIX-Web\"}});}</script>                <script type=\"text/javascript\">window.PlotlyConfig = {MathJaxConfig: 'local'};</script>\n",
              "        <script charset=\"utf-8\" src=\"https://cdn.plot.ly/plotly-2.35.2.min.js\"></script>                <div id=\"581f93b4-8682-4b0a-8546-128068b1991f\" class=\"plotly-graph-div\" style=\"height:525px; width:100%;\"></div>            <script type=\"text/javascript\">                                    window.PLOTLYENV=window.PLOTLYENV || {};                                    if (document.getElementById(\"581f93b4-8682-4b0a-8546-128068b1991f\")) {                    Plotly.newPlot(                        \"581f93b4-8682-4b0a-8546-128068b1991f\",                        [{\"hovertemplate\":\"Date & Time=%{x}\\u003cbr\\u003eCompound Sentiment Score=%{y}\\u003cextra\\u003e\\u003c\\u002fextra\\u003e\",\"legendgroup\":\"\",\"line\":{\"color\":\"#636efa\",\"dash\":\"solid\"},\"marker\":{\"symbol\":\"circle\"},\"mode\":\"lines+markers\",\"name\":\"\",\"orientation\":\"v\",\"showlegend\":false,\"x\":[\"2022-07-01T00:52:34\",\"2022-07-01T03:17:37\",\"2022-07-02T15:24:53\",\"2022-07-03T04:42:00\",\"2022-07-03T15:20:05\",\"2022-07-05T13:48:23\",\"2022-07-05T13:53:13\",\"2022-07-05T14:55:26\",\"2022-07-06T03:08:11\",\"2022-07-06T13:05:12\",\"2022-07-07T12:18:33\",\"2022-07-09T22:55:28\",\"2022-07-10T09:19:34\",\"2022-07-12T01:32:29\",\"2022-07-12T10:27:43\",\"2022-07-12T15:17:45\",\"2022-07-13T15:17:09\",\"2022-07-13T18:13:26\",\"2022-07-13T22:11:37\",\"2022-07-14T10:48:48\",\"2022-07-17T20:13:41\",\"2022-07-20T00:12:48\",\"2022-07-23T23:07:36\",\"2022-07-24T17:01:16\",\"2022-07-25T06:44:20\",\"2022-07-27T12:14:03\",\"2022-07-28T01:35:43\",\"2022-07-28T21:04:32\",\"2022-07-30T12:48:31\",\"2022-08-01T02:57:05\",\"2022-08-01T05:28:30\",\"2022-08-01T05:38:48\",\"2022-08-02T20:48:13\",\"2022-08-03T11:58:45\",\"2022-08-03T16:11:28\",\"2022-08-04T20:49:54\",\"2022-08-05T14:19:37\",\"2022-08-06T07:28:45\",\"2022-08-06T09:39:43\",\"2022-08-08T22:34:40\",\"2022-08-09T00:43:02\",\"2022-08-09T11:40:24\",\"2022-08-12T11:16:45\",\"2022-08-12T18:50:07\",\"2022-08-13T08:09:22\",\"2022-08-15T05:13:07\",\"2022-08-15T06:31:57\",\"2022-08-16T16:10:04\",\"2022-08-17T09:32:21\",\"2022-08-19T19:44:13\",\"2022-08-19T22:58:48\",\"2022-08-20T10:35:52\",\"2022-08-21T02:54:31\",\"2022-08-21T07:03:12\",\"2022-08-22T16:07:42\",\"2022-08-23T08:35:15\",\"2022-08-23T09:56:09\",\"2022-08-25T03:29:31\",\"2022-08-25T18:47:19\",\"2022-08-28T06:25:30\",\"2022-08-28T10:53:28\",\"2022-08-29T11:19:59\",\"2022-08-30T09:04:53\",\"2022-08-31T23:58:34\",\"2022-09-01T14:02:12\",\"2022-09-01T17:44:38\",\"2022-09-01T21:06:32\",\"2022-09-02T00:39:06\",\"2022-09-02T01:01:15\",\"2022-09-03T04:53:16\",\"2022-09-03T08:29:40\",\"2022-09-04T00:27:49\",\"2022-09-04T15:47:00\",\"2022-09-05T19:10:08\",\"2022-09-05T22:50:35\",\"2022-09-06T06:57:35\",\"2022-09-08T01:18:22\",\"2022-09-09T17:14:10\",\"2022-09-10T22:14:42\",\"2022-09-17T12:20:49\",\"2022-09-17T18:18:33\",\"2022-09-18T02:42:04\",\"2022-09-20T02:39:42\",\"2022-09-20T21:35:01\",\"2022-09-25T17:23:57\",\"2022-09-26T00:46:12\",\"2022-09-26T02:25:16\",\"2022-09-26T20:08:24\",\"2022-09-27T11:36:30\",\"2022-09-28T02:31:48\",\"2022-09-30T02:08:29\",\"2022-10-01T12:12:15\",\"2022-10-01T21:36:35\",\"2022-10-04T02:08:47\",\"2022-10-04T11:34:29\",\"2022-10-05T09:08:40\",\"2022-10-05T13:56:42\",\"2022-10-09T14:22:36\",\"2022-10-10T02:58:04\",\"2022-10-10T04:50:58\",\"2022-10-10T05:59:29\",\"2022-10-10T14:36:41\",\"2022-10-10T16:16:30\",\"2022-10-14T01:38:25\",\"2022-10-15T10:28:47\",\"2022-10-15T23:15:36\",\"2022-10-16T05:36:52\",\"2022-10-16T16:16:21\",\"2022-10-17T16:34:51\",\"2022-10-19T08:25:01\",\"2022-10-21T19:40:02\",\"2022-10-22T14:34:13\",\"2022-10-22T14:49:02\",\"2022-10-23T09:11:44\",\"2022-10-24T05:45:15\",\"2022-10-24T12:08:26\",\"2022-10-25T16:52:33\",\"2022-10-27T00:10:47\",\"2022-10-27T05:55:51\",\"2022-10-27T10:03:45\",\"2022-10-27T14:57:11\",\"2022-10-28T06:28:52\",\"2022-10-28T10:14:33\",\"2022-10-29T12:20:59\",\"2022-10-30T00:41:26\",\"2022-10-30T13:39:20\",\"2022-10-31T11:40:47\",\"2022-10-31T16:24:58\",\"2022-11-01T01:35:51\",\"2022-11-01T07:43:28\",\"2022-11-02T17:53:32\",\"2022-11-05T00:45:55\",\"2022-11-06T02:12:51\",\"2022-11-06T11:51:51\",\"2022-11-06T16:56:55\",\"2022-11-06T17:16:15\",\"2022-11-09T10:30:47\",\"2022-11-11T17:25:51\",\"2022-11-12T00:00:13\",\"2022-11-12T08:49:18\",\"2022-11-13T08:12:26\",\"2022-11-13T08:15:12\",\"2022-11-13T09:19:27\",\"2022-11-15T18:34:39\",\"2022-11-16T04:25:48\",\"2022-11-16T08:24:14\",\"2022-11-16T08:47:08\",\"2022-11-17T02:56:24\",\"2022-11-17T06:10:16\",\"2022-11-18T01:43:21\",\"2022-11-18T18:11:32\",\"2022-11-21T02:45:30\",\"2022-11-22T06:17:45\",\"2022-11-24T22:54:40\",\"2022-11-27T07:33:31\",\"2022-11-29T17:51:45\",\"2022-11-30T03:09:32\",\"2022-11-30T13:46:45\",\"2022-12-01T01:26:39\",\"2022-12-01T21:02:55\",\"2022-12-03T00:16:12\",\"2022-12-03T06:37:23\",\"2022-12-04T23:39:18\",\"2022-12-05T11:01:57\",\"2022-12-05T13:28:12\",\"2022-12-05T23:52:57\",\"2022-12-06T19:38:52\",\"2022-12-08T08:12:17\",\"2022-12-10T06:01:54\",\"2022-12-11T13:56:30\",\"2022-12-13T21:38:47\",\"2022-12-14T18:23:13\",\"2022-12-18T18:32:40\",\"2022-12-19T08:56:16\",\"2022-12-22T02:15:32\",\"2022-12-22T12:45:48\",\"2022-12-24T12:29:57\",\"2022-12-24T20:56:33\",\"2022-12-25T02:33:55\",\"2022-12-25T20:59:27\",\"2022-12-27T10:05:28\",\"2022-12-27T15:36:38\",\"2022-12-28T06:43:53\",\"2022-12-28T16:27:09\",\"2022-12-28T17:47:18\",\"2022-12-30T04:35:37\",\"2022-12-30T10:48:14\",\"2023-01-01T17:31:33\",\"2023-01-02T16:04:26\",\"2023-01-04T15:29:39\",\"2023-01-06T16:49:42\",\"2023-01-06T17:17:43\",\"2023-01-08T01:32:29\",\"2023-01-12T12:16:38\",\"2023-01-13T16:15:58\",\"2023-01-16T20:13:31\",\"2023-01-17T20:43:41\",\"2023-01-18T07:27:12\",\"2023-01-18T12:55:17\",\"2023-01-21T12:58:34\",\"2023-01-22T02:07:14\",\"2023-01-23T07:19:05\",\"2023-01-24T07:47:19\",\"2023-01-25T07:01:28\",\"2023-01-25T14:53:54\",\"2023-01-26T17:53:03\",\"2023-01-27T03:53:34\",\"2023-01-27T22:45:55\",\"2023-01-28T11:27:39\",\"2023-01-28T20:34:16\",\"2023-01-29T09:20:15\",\"2023-01-31T18:29:07\",\"2023-01-31T19:03:37\",\"2023-02-01T21:03:11\",\"2023-02-02T15:55:11\",\"2023-02-02T23:51:13\",\"2023-02-05T21:29:06\",\"2023-02-06T08:02:00\",\"2023-02-07T01:26:19\",\"2023-02-07T17:06:21\",\"2023-02-07T22:52:48\",\"2023-02-09T22:21:18\",\"2023-02-10T06:27:04\",\"2023-02-11T02:14:16\",\"2023-02-12T23:13:57\",\"2023-02-14T00:06:44\",\"2023-02-14T02:29:05\",\"2023-02-17T09:41:51\",\"2023-02-18T08:13:12\",\"2023-02-19T09:07:40\",\"2023-02-19T11:49:47\",\"2023-02-19T22:50:51\",\"2023-02-20T22:18:47\",\"2023-02-21T22:17:59\",\"2023-02-23T12:04:45\",\"2023-02-24T22:20:54\",\"2023-02-26T05:18:58\",\"2023-02-26T15:32:21\",\"2023-02-28T16:05:53\",\"2023-02-28T22:33:02\",\"2023-03-02T03:55:26\",\"2023-03-02T15:10:57\",\"2023-03-03T10:03:03\",\"2023-03-05T07:02:18\",\"2023-03-07T00:09:41\",\"2023-03-11T19:58:39\",\"2023-03-12T03:17:50\",\"2023-03-12T06:34:00\",\"2023-03-13T16:51:05\",\"2023-03-15T03:46:21\",\"2023-03-18T18:49:24\",\"2023-03-18T20:25:57\",\"2023-03-20T15:55:02\",\"2023-03-20T18:01:45\",\"2023-03-21T01:59:56\",\"2023-03-22T01:57:32\",\"2023-03-23T07:26:33\",\"2023-03-23T19:14:19\",\"2023-03-24T13:10:50\",\"2023-03-25T02:42:08\",\"2023-03-27T08:47:27\",\"2023-03-27T21:34:06\",\"2023-03-28T21:56:32\",\"2023-03-29T00:44:58\",\"2023-03-29T22:26:01\",\"2023-03-30T00:41:05\",\"2023-03-30T13:23:11\",\"2023-04-01T09:37:13\",\"2023-04-02T13:11:29\",\"2023-04-03T13:12:43\",\"2023-04-04T05:02:58\",\"2023-04-05T21:04:27\",\"2023-04-05T23:23:10\",\"2023-04-08T16:01:52\",\"2023-04-08T19:42:01\",\"2023-04-12T19:35:55\",\"2023-04-13T11:21:59\",\"2023-04-13T12:12:26\",\"2023-04-13T14:30:27\",\"2023-04-14T03:31:00\",\"2023-04-14T04:29:13\",\"2023-04-14T20:17:05\",\"2023-04-16T03:36:14\",\"2023-04-17T17:18:30\",\"2023-04-19T01:39:49\",\"2023-04-24T02:27:55\",\"2023-04-26T16:24:28\",\"2023-04-30T07:00:52\",\"2023-05-01T10:01:43\",\"2023-05-01T15:18:09\",\"2023-05-03T17:35:54\",\"2023-05-04T06:29:35\",\"2023-05-07T18:21:32\",\"2023-05-08T22:04:13\",\"2023-05-09T14:49:28\",\"2023-05-10T22:40:50\",\"2023-05-12T03:11:50\",\"2023-05-13T01:00:07\",\"2023-05-14T05:06:46\",\"2023-05-14T06:09:58\",\"2023-05-15T07:56:24\",\"2023-05-16T14:52:19\",\"2023-05-16T21:09:35\",\"2023-05-17T20:11:27\",\"2023-05-19T17:00:06\",\"2023-05-20T18:17:19\",\"2023-05-20T19:42:52\",\"2023-05-26T07:22:33\",\"2023-05-26T07:43:47\",\"2023-05-26T08:46:44\",\"2023-05-27T12:03:20\",\"2023-05-27T16:37:54\",\"2023-05-29T07:49:22\",\"2023-05-31T05:31:51\",\"2023-05-31T08:48:13\",\"2023-06-01T14:19:01\",\"2023-06-03T17:11:05\",\"2023-06-05T10:39:53\",\"2023-06-07T02:39:14\",\"2023-06-13T04:36:36\",\"2023-06-13T10:24:12\",\"2023-06-13T20:19:52\",\"2023-06-17T14:24:18\",\"2023-06-18T10:57:17\",\"2023-06-19T21:54:56\",\"2023-06-21T20:10:25\",\"2023-06-21T21:48:42\",\"2023-06-21T22:41:02\",\"2023-06-23T21:10:33\",\"2023-06-25T00:28:29\",\"2023-06-25T00:53:01\",\"2023-06-26T01:38:54\",\"2023-06-26T10:35:56\",\"2023-06-26T12:42:21\",\"2023-06-28T05:42:09\",\"2023-06-28T11:00:45\",\"2023-06-29T15:47:03\",\"2023-06-29T20:32:08\",\"2023-06-30T01:02:02\",\"2023-06-30T03:01:37\",\"2023-06-30T22:52:17\",\"2023-07-05T11:51:51\",\"2023-07-06T17:14:55\",\"2023-07-06T17:55:01\",\"2023-07-07T05:14:05\",\"2023-07-07T18:38:28\",\"2023-07-07T22:34:45\",\"2023-07-08T21:34:22\",\"2023-07-10T09:48:03\",\"2023-07-11T12:02:48\",\"2023-07-12T21:14:04\",\"2023-07-13T04:32:36\",\"2023-07-16T03:34:29\",\"2023-07-19T15:42:27\",\"2023-07-20T04:47:26\",\"2023-07-20T14:21:31\",\"2023-07-20T19:10:12\",\"2023-07-21T19:28:17\",\"2023-07-21T20:09:22\",\"2023-07-21T22:49:30\",\"2023-07-22T01:42:20\",\"2023-07-22T03:42:33\",\"2023-07-23T04:56:35\",\"2023-07-25T12:24:08\",\"2023-07-25T13:03:47\",\"2023-07-26T04:19:36\",\"2023-07-27T08:03:38\",\"2023-07-28T02:52:59\",\"2023-07-30T11:22:09\",\"2023-07-31T03:55:23\",\"2023-07-31T10:06:34\",\"2023-07-31T12:56:03\",\"2023-08-01T20:14:19\",\"2023-08-02T03:12:54\",\"2023-08-02T04:17:50\",\"2023-08-02T12:59:43\",\"2023-08-02T19:17:04\",\"2023-08-03T15:12:51\",\"2023-08-03T16:09:21\",\"2023-08-04T16:30:08\",\"2023-08-04T22:56:45\",\"2023-08-05T06:06:19\",\"2023-08-07T14:28:58\",\"2023-08-10T08:41:33\",\"2023-08-10T15:41:02\",\"2023-08-10T19:58:25\",\"2023-08-10T23:56:53\",\"2023-08-11T22:57:16\",\"2023-08-14T14:10:40\",\"2023-08-15T09:40:35\",\"2023-08-16T19:22:54\",\"2023-08-17T16:24:23\",\"2023-08-18T02:59:40\",\"2023-08-18T12:28:42\",\"2023-08-19T03:42:33\",\"2023-08-19T20:34:08\",\"2023-08-20T02:03:20\",\"2023-08-22T05:30:33\",\"2023-08-22T11:10:34\",\"2023-08-22T20:05:14\",\"2023-08-24T21:36:38\",\"2023-08-25T10:22:16\",\"2023-08-25T12:30:34\",\"2023-08-25T17:35:20\",\"2023-08-26T04:50:17\",\"2023-08-29T02:41:57\",\"2023-08-30T18:28:14\",\"2023-09-01T09:14:48\",\"2023-09-01T19:27:51\",\"2023-09-02T10:55:00\",\"2023-09-04T14:50:22\",\"2023-09-04T16:02:55\",\"2023-09-04T17:59:29\",\"2023-09-05T03:12:52\",\"2023-09-06T04:16:28\",\"2023-09-06T04:27:04\",\"2023-09-07T05:16:21\",\"2023-09-07T20:50:33\",\"2023-09-08T09:46:20\",\"2023-09-10T02:00:56\",\"2023-09-11T20:59:36\",\"2023-09-12T04:26:16\",\"2023-09-16T17:19:05\",\"2023-09-17T06:26:22\",\"2023-09-17T09:08:55\",\"2023-09-18T03:25:18\",\"2023-09-19T19:13:56\",\"2023-09-20T11:41:49\",\"2023-09-21T10:56:30\",\"2023-09-21T14:13:00\",\"2023-09-22T03:10:41\",\"2023-09-22T23:05:40\",\"2023-09-28T02:40:19\",\"2023-09-30T12:40:47\",\"2023-10-03T00:30:30\",\"2023-10-04T13:25:51\",\"2023-10-04T19:55:44\",\"2023-10-05T01:37:57\",\"2023-10-05T02:54:12\",\"2023-10-09T04:56:44\",\"2023-10-09T11:53:06\",\"2023-10-09T16:25:08\",\"2023-10-11T04:00:46\",\"2023-10-13T02:40:15\",\"2023-10-13T19:32:38\",\"2023-10-15T11:56:46\",\"2023-10-17T09:22:14\",\"2023-10-19T23:36:58\",\"2023-10-21T17:47:42\",\"2023-10-22T12:13:56\",\"2023-10-23T11:03:37\",\"2023-10-23T19:33:04\",\"2023-10-24T12:08:56\",\"2023-10-24T13:26:42\",\"2023-10-25T03:12:20\",\"2023-10-25T10:44:49\",\"2023-10-25T18:15:07\",\"2023-10-28T10:30:04\",\"2023-10-28T22:14:10\",\"2023-10-30T04:33:04\",\"2023-10-30T07:36:34\",\"2023-10-30T14:37:18\",\"2023-11-01T09:24:30\",\"2023-11-03T15:49:05\",\"2023-11-04T00:46:26\",\"2023-11-07T16:34:07\",\"2023-11-07T16:42:52\",\"2023-11-08T09:08:38\",\"2023-11-10T20:04:40\",\"2023-11-11T02:17:50\",\"2023-11-11T21:00:10\",\"2023-11-14T05:59:08\",\"2023-11-14T17:30:21\",\"2023-11-15T04:25:57\",\"2023-11-15T22:58:01\",\"2023-11-17T11:57:48\",\"2023-11-17T15:37:05\",\"2023-11-17T18:18:40\",\"2023-11-18T19:53:21\",\"2023-11-18T23:21:32\",\"2023-11-18T23:25:56\",\"2023-11-19T09:19:23\",\"2023-11-20T02:26:20\",\"2023-11-21T20:11:56\",\"2023-11-22T06:55:08\",\"2023-11-23T21:34:19\",\"2023-11-26T05:23:27\",\"2023-11-26T06:10:34\",\"2023-11-26T13:25:12\",\"2023-11-26T14:04:25\",\"2023-11-27T02:36:36\",\"2023-11-29T18:04:31\",\"2023-12-01T08:41:07\",\"2023-12-02T03:37:05\",\"2023-12-02T14:57:39\",\"2023-12-04T22:04:54\",\"2023-12-05T11:59:04\",\"2023-12-07T11:23:14\",\"2023-12-08T07:19:11\",\"2023-12-09T17:33:13\",\"2023-12-12T06:22:21\",\"2023-12-12T08:22:32\",\"2023-12-13T04:40:27\",\"2023-12-19T14:05:21\",\"2023-12-19T17:10:52\",\"2023-12-20T23:38:49\",\"2023-12-21T07:17:35\",\"2023-12-21T08:43:00\",\"2023-12-22T18:58:31\",\"2023-12-23T11:30:14\",\"2023-12-24T04:18:03\",\"2023-12-24T11:57:11\",\"2023-12-26T08:53:56\",\"2023-12-27T04:22:24\",\"2023-12-27T09:30:09\",\"2023-12-28T02:20:16\",\"2023-12-28T08:08:11\",\"2023-12-31T07:26:19\",\"2024-01-01T00:02:54\",\"2024-01-01T19:44:36\",\"2024-01-02T20:46:23\",\"2024-01-05T05:00:07\",\"2024-01-05T05:57:39\",\"2024-01-06T05:35:26\",\"2024-01-06T09:40:37\",\"2024-01-06T11:20:36\",\"2024-01-06T17:53:51\",\"2024-01-07T04:19:14\",\"2024-01-08T02:10:24\",\"2024-01-08T05:31:06\",\"2024-01-08T09:31:04\",\"2024-01-08T11:51:14\",\"2024-01-11T03:36:35\",\"2024-01-12T05:39:21\",\"2024-01-12T12:39:28\",\"2024-01-16T06:11:51\",\"2024-01-17T00:41:39\",\"2024-01-18T09:49:29\",\"2024-01-19T07:04:21\",\"2024-01-19T10:06:59\",\"2024-01-19T12:27:41\",\"2024-01-20T10:27:53\",\"2024-01-20T10:56:36\",\"2024-01-21T01:58:20\",\"2024-01-21T18:12:34\",\"2024-01-21T21:38:47\",\"2024-01-23T13:20:11\",\"2024-01-25T08:16:24\",\"2024-01-25T13:45:05\",\"2024-01-26T19:51:34\",\"2024-01-28T11:12:31\",\"2024-01-28T20:26:19\",\"2024-01-29T10:33:03\",\"2024-01-29T17:24:53\",\"2024-01-31T17:11:38\",\"2024-02-01T19:54:38\",\"2024-02-01T20:56:55\",\"2024-02-03T18:00:17\",\"2024-02-04T15:16:09\",\"2024-02-05T03:00:16\",\"2024-02-06T06:53:47\",\"2024-02-06T12:45:17\",\"2024-02-09T08:09:43\",\"2024-02-11T09:27:43\",\"2024-02-12T12:44:28\",\"2024-02-15T10:59:30\",\"2024-02-16T21:40:27\",\"2024-02-18T07:18:18\",\"2024-02-18T16:07:01\",\"2024-02-18T17:57:40\",\"2024-02-19T11:28:58\",\"2024-02-19T17:35:35\",\"2024-02-20T12:16:31\",\"2024-02-20T14:14:40\",\"2024-02-20T15:06:05\",\"2024-02-21T01:15:42\",\"2024-02-21T02:45:09\",\"2024-02-21T07:10:25\",\"2024-02-23T06:06:24\",\"2024-02-26T08:30:22\",\"2024-02-26T13:45:14\",\"2024-02-28T02:13:29\",\"2024-03-01T00:36:31\",\"2024-03-01T06:48:18\",\"2024-03-02T12:25:50\",\"2024-03-04T14:30:32\",\"2024-03-04T15:58:45\",\"2024-03-06T22:58:49\",\"2024-03-08T05:40:28\",\"2024-03-09T16:04:49\",\"2024-03-12T05:45:33\",\"2024-03-13T07:34:09\",\"2024-03-13T15:57:19\",\"2024-03-13T17:39:04\",\"2024-03-14T20:59:32\",\"2024-03-14T23:54:36\",\"2024-03-15T03:26:02\",\"2024-03-15T18:48:54\",\"2024-03-16T18:05:42\",\"2024-03-17T04:33:43\",\"2024-03-17T08:20:36\",\"2024-03-19T23:42:40\",\"2024-03-20T03:21:05\",\"2024-03-20T05:24:51\",\"2024-03-21T18:29:20\",\"2024-03-22T13:24:25\",\"2024-03-24T19:58:34\",\"2024-03-25T21:58:57\",\"2024-03-26T15:57:53\",\"2024-03-28T21:00:06\",\"2024-03-29T06:14:13\",\"2024-03-30T16:12:22\",\"2024-04-02T08:59:57\",\"2024-04-04T21:38:35\",\"2024-04-06T16:43:56\",\"2024-04-06T20:22:14\",\"2024-04-07T02:09:39\",\"2024-04-07T16:16:24\",\"2024-04-07T20:14:12\",\"2024-04-08T00:19:27\",\"2024-04-08T01:26:25\",\"2024-04-08T08:22:43\",\"2024-04-08T21:59:00\",\"2024-04-11T06:20:31\",\"2024-04-11T09:41:18\",\"2024-04-11T22:00:58\",\"2024-04-13T01:33:53\",\"2024-04-14T20:26:49\",\"2024-04-15T02:59:18\",\"2024-04-22T07:52:29\",\"2024-04-24T22:44:59\",\"2024-04-25T17:54:28\",\"2024-04-27T06:01:43\",\"2024-04-28T19:03:29\",\"2024-04-29T06:06:24\",\"2024-04-29T12:35:42\",\"2024-05-01T07:38:51\",\"2024-05-01T23:32:40\",\"2024-05-04T04:31:20\",\"2024-05-04T15:48:04\",\"2024-05-04T23:54:45\",\"2024-05-05T07:47:21\",\"2024-05-09T12:36:22\",\"2024-05-11T21:56:09\",\"2024-05-12T02:11:18\",\"2024-05-12T12:38:48\",\"2024-05-12T17:32:09\",\"2024-05-13T07:03:41\",\"2024-05-14T14:36:05\",\"2024-05-14T14:46:56\",\"2024-05-16T09:50:37\",\"2024-05-18T02:36:57\",\"2024-05-21T06:14:21\",\"2024-05-21T06:31:02\",\"2024-05-21T14:25:14\",\"2024-05-22T02:24:27\",\"2024-05-23T04:05:40\",\"2024-05-24T21:03:39\",\"2024-05-26T01:52:18\",\"2024-05-26T05:55:25\",\"2024-05-28T02:21:38\",\"2024-05-29T01:48:36\",\"2024-05-31T11:39:01\",\"2024-05-31T12:50:02\",\"2024-06-01T23:31:26\",\"2024-06-03T09:11:09\",\"2024-06-04T04:37:46\",\"2024-06-06T14:48:24\",\"2024-06-07T07:23:18\",\"2024-06-08T11:53:21\",\"2024-06-09T02:46:15\",\"2024-06-09T21:07:00\",\"2024-06-11T03:21:54\",\"2024-06-14T03:16:03\",\"2024-06-14T12:12:44\",\"2024-06-14T18:12:13\",\"2024-06-15T19:25:59\",\"2024-06-17T07:24:37\",\"2024-06-18T10:24:13\",\"2024-06-19T18:29:25\",\"2024-06-19T18:41:32\",\"2024-06-20T09:24:04\",\"2024-06-21T05:28:08\",\"2024-06-21T11:04:44\",\"2024-06-22T19:07:53\",\"2024-06-22T23:07:06\",\"2024-06-23T06:44:49\",\"2024-06-24T04:08:50\",\"2024-06-24T05:23:46\",\"2024-06-27T08:07:41\",\"2024-06-27T21:05:25\",\"2024-06-28T15:16:31\",\"2024-06-29T22:36:09\",\"2024-07-03T22:50:17\",\"2024-07-04T08:27:25\",\"2024-07-04T16:51:30\",\"2024-07-04T22:48:44\",\"2024-07-05T16:24:32\",\"2024-07-08T07:37:44\",\"2024-07-11T12:15:09\",\"2024-07-11T14:51:47\",\"2024-07-17T05:51:01\",\"2024-07-17T13:55:04\",\"2024-07-17T14:39:33\",\"2024-07-18T16:25:19\",\"2024-07-19T08:01:13\",\"2024-07-20T08:47:58\",\"2024-07-21T11:42:47\",\"2024-07-22T22:16:37\",\"2024-07-24T13:16:09\",\"2024-07-24T20:57:10\",\"2024-07-26T00:57:48\",\"2024-07-26T08:20:43\",\"2024-07-27T09:40:04\",\"2024-07-28T21:21:22\",\"2024-07-29T00:10:56\",\"2024-07-30T05:38:47\",\"2024-07-30T09:08:20\",\"2024-07-31T15:49:10\",\"2024-08-02T09:48:03\",\"2024-08-03T08:44:35\",\"2024-08-05T06:42:33\",\"2024-08-06T11:42:31\",\"2024-08-08T00:43:08\",\"2024-08-08T20:32:37\",\"2024-08-10T12:02:01\",\"2024-08-12T04:25:41\",\"2024-08-12T07:49:50\",\"2024-08-12T20:04:34\",\"2024-08-12T22:03:12\",\"2024-08-14T06:10:57\",\"2024-08-15T04:08:16\",\"2024-08-15T07:19:19\",\"2024-08-17T20:17:03\",\"2024-08-18T19:29:11\",\"2024-08-20T09:56:04\",\"2024-08-21T02:41:43\",\"2024-08-21T12:51:05\",\"2024-08-21T14:20:34\",\"2024-08-22T13:38:04\",\"2024-08-24T11:12:27\",\"2024-08-24T21:44:26\",\"2024-08-25T18:50:41\",\"2024-08-25T21:09:54\",\"2024-08-27T17:54:23\",\"2024-08-28T09:51:32\",\"2024-08-28T22:25:11\",\"2024-08-29T01:25:41\",\"2024-08-29T05:00:29\",\"2024-08-30T09:34:45\"],\"xaxis\":\"x\",\"y\":[-0.5574,0.25,0.0,0.0,0.0,0.4019,-0.296,0.0,-0.4767,-0.4404,0.34,0.3818,0.0,0.0,0.0,0.0,-0.296,0.0,-0.4215,0.0,0.0,0.0772,-0.4215,-0.296,0.0772,0.0,-0.34,-0.296,0.0,0.4215,-0.128,0.2263,-0.3612,0.0772,0.0,-0.5106,-0.4767,0.128,0.0,0.0,0.4215,-0.7251,0.0,0.4215,-0.2732,-0.34,0.0,0.4019,0.0,-0.34,-0.5574,0.2057,0.0,0.0772,-0.4767,-0.5191,0.0,0.0,0.0,-0.296,0.3182,0.5719,0.7096,0.2732,-0.5719,-0.3384,0.0,0.25,-0.2732,-0.5106,-0.3612,0.0,-0.296,0.0,0.4404,0.296,-0.4767,-0.2732,0.0,0.0,0.2023,-0.296,-0.3612,0.2263,-0.5859,-0.4168,-0.6124,-0.2732,0.6124,0.1531,-0.128,0.34,0.2732,0.4404,0.0,0.0,0.3818,0.3412,-0.5106,-0.128,0.0,0.0,0.0,-0.7269,0.6369,0.25,0.0,-0.5719,-0.4215,0.2263,-0.5994,-0.5413,0.0,-0.3182,-0.5574,0.0,0.0,0.0,-0.3818,-0.4404,-0.7408,-0.5267,-0.296,0.6124,0.0,0.0,0.0,0.0,0.0,0.0,0.1779,0.0,-0.25,0.0,0.1531,0.0,0.0,0.0,-0.296,0.4404,-0.0258,-0.6124,-0.4939,0.1779,0.0,0.4201,0.4939,-0.4767,0.2584,-0.6597,-0.1779,-0.6167,0.0,0.0,0.0,-0.5574,0.6369,0.4404,0.2023,0.6369,0.0,0.0,0.0,0.2732,0.0,0.0,0.0772,-0.6249,0.296,-0.296,0.0,0.0,-0.743,0.0,0.0,-0.2732,-0.5267,0.0,0.7351,-0.2732,-0.3612,0.0,-0.3182,0.0,-0.4062,0.0,0.0,-0.4588,0.0,0.0,0.0,0.0,0.0,0.0772,-0.296,0.0,-0.4019,0.0,0.0772,-0.5106,-0.2732,0.0772,0.0772,0.0,-0.5267,0.0,-0.128,0.0,-0.4927,-0.34,0.128,0.0,0.0,-0.296,0.0,0.0,0.0,0.0,-0.5423,-0.296,-0.3818,0.0,-0.296,0.4019,0.0,0.0,-0.2023,0.34,0.0,0.0,0.0,-0.5574,0.6369,-0.3612,-0.4019,-0.6249,0.3182,-0.4939,0.0,-0.2732,0.4767,0.4767,-0.4215,-0.1027,0.0,-0.0516,0.6369,0.0,0.0,0.0,-0.5574,0.2263,-0.3612,0.5106,0.4585,-0.5859,-0.2263,-0.6597,-0.296,0.3182,-0.7717,0.0,0.5106,-0.5719,0.0,-0.765,-0.4767,-0.7688,0.4019,0.0,0.25,0.1779,-0.2542,-0.0572,0.0,-0.296,0.0,0.0,-0.2732,-0.2732,0.0,0.0,-0.6124,0.0,0.0,0.0,-0.4404,0.0,0.0516,-0.1531,0.4588,0.0,-0.296,0.0,0.25,0.0,-0.4404,0.0,-0.296,0.5106,0.6369,0.1027,0.5106,0.0,0.0,0.6369,0.0,0.3818,0.0,-0.3182,0.0,-0.0516,0.5837,0.0,-0.6369,-0.3182,0.0,0.5106,-0.4215,0.4215,0.2263,-0.4404,0.4939,-0.2732,0.0,0.4588,0.0,0.7783,0.0,-0.2023,-0.296,0.0,-0.5423,-0.4767,-0.0516,0.0,0.0,-0.2732,-0.5267,0.0,-0.1999,0.0,0.3612,0.0,-0.128,0.0,0.1695,0.0,-0.8225,-0.3612,0.5095,0.0,-0.7003,0.0,0.0516,-0.4767,-0.5719,-0.4767,0.0,-0.7351,0.0,0.6745,0.0,-0.2263,-0.4767,-0.5719,-0.1779,0.5739,0.5106,-0.1531,0.0,-0.3612,0.0,-0.34,0.8591,0.0,0.1027,0.0,-0.4939,-0.296,0.7579,-0.2732,-0.2732,0.0,0.0,0.3182,-0.5267,0.0,0.0,-0.3182,0.0,0.25,0.0,0.0,-0.34,0.0,-0.296,0.3995,-0.3182,0.0,0.4019,0.4215,0.0,0.0,0.128,0.3612,0.0,0.0,-0.2732,0.2263,0.0,-0.8316,0.0,-0.1027,-0.2732,0.0,0.0,0.0,0.0,0.0,-0.3612,0.0,-0.3875,0.6808,-0.3182,-0.296,0.0,-0.296,0.0572,-0.6705,0.0,0.0,-0.128,-0.4939,-0.8176,0.3361,0.2732,0.0,0.0,0.0,-0.2732,-0.3384,0.6369,0.0,0.0,0.1882,-0.34,-0.4404,0.0,0.0,0.4939,0.0,0.4019,0.0772,0.2023,0.0,0.0,0.0,0.4215,0.5859,0.4352,-0.296,-0.1779,0.3765,0.0,0.0,-0.2732,0.0,0.0,0.0,0.0,0.0,0.2023,0.765,0.5859,0.0,-0.2944,0.4404,0.0,0.0,0.0,0.0,-0.296,-0.6249,0.0,0.0,-0.2732,-0.3612,-0.4404,0.0,-0.1779,-0.296,0.0,-0.2732,-0.2023,0.0,0.0,0.0,0.0,0.0,-0.128,-0.7096,-0.1531,0.6906,0.0,0.0,-0.296,0.0,-0.4927,-0.6808,0.7506,0.4019,0.6369,-0.5719,-0.1027,-0.2732,0.0,-0.3612,0.3612,0.0,0.0,-0.5574,0.0,0.0,-0.5267,-0.4588,-0.7003,-0.2732,-0.0516,-0.3089,0.0,0.0,0.0,0.7269,0.2732,-0.4767,-0.4939,0.3412,0.0,-0.7579,0.0,-0.2732,0.0,0.4767,0.0,0.0,-0.2732,0.4404,0.3818,0.0516,-0.5423,0.3182,0.0,0.0,0.4404,0.0,0.4417,-0.1531,0.3182,-0.128,0.34,-0.7351,0.0,0.0,-0.25,0.25,0.0,0.0,0.2263,0.0,-0.0516,0.3818,-0.7458,-0.1027,0.0,0.3612,0.0,0.0258,0.0,-0.5719,-0.5859,0.0,0.0,0.0,-0.128,-0.6486,-0.5574,-0.2732,0.2263,0.0,-0.34,0.0,-0.5106,-0.2081,0.0,-0.4767,0.0,-0.3818,0.0,-0.3182,-0.471,0.0772,0.0,-0.7003,0.0,-0.6369,0.0,-0.0516,0.0772,-0.2732,0.8176,0.0,-0.5574,0.0,-0.296,-0.8591,0.1779,-0.3182,-0.2732,0.5859,0.0762,0.0,0.3612,0.0,-0.5423,0.357,0.0,0.0,0.0,0.0,-0.0516,-0.6801,0.0,0.4019,-0.4588,0.4404,-0.5574,0.0,0.0,0.5267,0.4779,0.2023,0.0,0.5423,0.0,-0.296,0.0,0.0,0.0,-0.5423,-0.7184,0.0,0.128,-0.0516,0.5106,0.7964,-0.3818,0.0,0.0,0.0,0.4019,-0.5106,0.5859,0.0258,-0.1027,0.0,0.0,0.0772,0.0,0.25,-0.1027,0.0,-0.6808,0.0,0.0772,0.0,0.0,0.6908,-0.5574,0.0,-0.362,0.4215,0.0,-0.3818,0.0,0.0,-0.4404,-0.1779,0.0,0.0,0.0,0.0,-0.6124,-0.296,-0.2732,0.0,0.3182,0.0,-0.3818,0.0,-0.7579,0.0,0.0,-0.2732,-0.1531,0.7579,-0.6808,0.0,0.3182,0.0,-0.2732,-0.4767,-0.7096,-0.2263,-0.5719,0.0,-0.5574,0.4588,-0.5994,0.0,0.6369,-0.296,-0.8316,-0.4767,0.0,-0.2732,-0.5423,-0.6597,0.0516,0.4019,-0.4404,0.6124,0.296,-0.3612,-0.4215,-0.2732,-0.4588,0.1779,0.0,0.2263,-0.3182,-0.296,0.0,-0.5859,0.0,-0.1779,-0.2732,-0.2732,0.0,-0.2732],\"yaxis\":\"y\",\"type\":\"scatter\"}],                        {\"template\":{\"data\":{\"histogram2dcontour\":[{\"type\":\"histogram2dcontour\",\"colorbar\":{\"outlinewidth\":0,\"ticks\":\"\"},\"colorscale\":[[0.0,\"#0d0887\"],[0.1111111111111111,\"#46039f\"],[0.2222222222222222,\"#7201a8\"],[0.3333333333333333,\"#9c179e\"],[0.4444444444444444,\"#bd3786\"],[0.5555555555555556,\"#d8576b\"],[0.6666666666666666,\"#ed7953\"],[0.7777777777777778,\"#fb9f3a\"],[0.8888888888888888,\"#fdca26\"],[1.0,\"#f0f921\"]]}],\"choropleth\":[{\"type\":\"choropleth\",\"colorbar\":{\"outlinewidth\":0,\"ticks\":\"\"}}],\"histogram2d\":[{\"type\":\"histogram2d\",\"colorbar\":{\"outlinewidth\":0,\"ticks\":\"\"},\"colorscale\":[[0.0,\"#0d0887\"],[0.1111111111111111,\"#46039f\"],[0.2222222222222222,\"#7201a8\"],[0.3333333333333333,\"#9c179e\"],[0.4444444444444444,\"#bd3786\"],[0.5555555555555556,\"#d8576b\"],[0.6666666666666666,\"#ed7953\"],[0.7777777777777778,\"#fb9f3a\"],[0.8888888888888888,\"#fdca26\"],[1.0,\"#f0f921\"]]}],\"heatmap\":[{\"type\":\"heatmap\",\"colorbar\":{\"outlinewidth\":0,\"ticks\":\"\"},\"colorscale\":[[0.0,\"#0d0887\"],[0.1111111111111111,\"#46039f\"],[0.2222222222222222,\"#7201a8\"],[0.3333333333333333,\"#9c179e\"],[0.4444444444444444,\"#bd3786\"],[0.5555555555555556,\"#d8576b\"],[0.6666666666666666,\"#ed7953\"],[0.7777777777777778,\"#fb9f3a\"],[0.8888888888888888,\"#fdca26\"],[1.0,\"#f0f921\"]]}],\"heatmapgl\":[{\"type\":\"heatmapgl\",\"colorbar\":{\"outlinewidth\":0,\"ticks\":\"\"},\"colorscale\":[[0.0,\"#0d0887\"],[0.1111111111111111,\"#46039f\"],[0.2222222222222222,\"#7201a8\"],[0.3333333333333333,\"#9c179e\"],[0.4444444444444444,\"#bd3786\"],[0.5555555555555556,\"#d8576b\"],[0.6666666666666666,\"#ed7953\"],[0.7777777777777778,\"#fb9f3a\"],[0.8888888888888888,\"#fdca26\"],[1.0,\"#f0f921\"]]}],\"contourcarpet\":[{\"type\":\"contourcarpet\",\"colorbar\":{\"outlinewidth\":0,\"ticks\":\"\"}}],\"contour\":[{\"type\":\"contour\",\"colorbar\":{\"outlinewidth\":0,\"ticks\":\"\"},\"colorscale\":[[0.0,\"#0d0887\"],[0.1111111111111111,\"#46039f\"],[0.2222222222222222,\"#7201a8\"],[0.3333333333333333,\"#9c179e\"],[0.4444444444444444,\"#bd3786\"],[0.5555555555555556,\"#d8576b\"],[0.6666666666666666,\"#ed7953\"],[0.7777777777777778,\"#fb9f3a\"],[0.8888888888888888,\"#fdca26\"],[1.0,\"#f0f921\"]]}],\"surface\":[{\"type\":\"surface\",\"colorbar\":{\"outlinewidth\":0,\"ticks\":\"\"},\"colorscale\":[[0.0,\"#0d0887\"],[0.1111111111111111,\"#46039f\"],[0.2222222222222222,\"#7201a8\"],[0.3333333333333333,\"#9c179e\"],[0.4444444444444444,\"#bd3786\"],[0.5555555555555556,\"#d8576b\"],[0.6666666666666666,\"#ed7953\"],[0.7777777777777778,\"#fb9f3a\"],[0.8888888888888888,\"#fdca26\"],[1.0,\"#f0f921\"]]}],\"mesh3d\":[{\"type\":\"mesh3d\",\"colorbar\":{\"outlinewidth\":0,\"ticks\":\"\"}}],\"scatter\":[{\"fillpattern\":{\"fillmode\":\"overlay\",\"size\":10,\"solidity\":0.2},\"type\":\"scatter\"}],\"parcoords\":[{\"type\":\"parcoords\",\"line\":{\"colorbar\":{\"outlinewidth\":0,\"ticks\":\"\"}}}],\"scatterpolargl\":[{\"type\":\"scatterpolargl\",\"marker\":{\"colorbar\":{\"outlinewidth\":0,\"ticks\":\"\"}}}],\"bar\":[{\"error_x\":{\"color\":\"#2a3f5f\"},\"error_y\":{\"color\":\"#2a3f5f\"},\"marker\":{\"line\":{\"color\":\"#E5ECF6\",\"width\":0.5},\"pattern\":{\"fillmode\":\"overlay\",\"size\":10,\"solidity\":0.2}},\"type\":\"bar\"}],\"scattergeo\":[{\"type\":\"scattergeo\",\"marker\":{\"colorbar\":{\"outlinewidth\":0,\"ticks\":\"\"}}}],\"scatterpolar\":[{\"type\":\"scatterpolar\",\"marker\":{\"colorbar\":{\"outlinewidth\":0,\"ticks\":\"\"}}}],\"histogram\":[{\"marker\":{\"pattern\":{\"fillmode\":\"overlay\",\"size\":10,\"solidity\":0.2}},\"type\":\"histogram\"}],\"scattergl\":[{\"type\":\"scattergl\",\"marker\":{\"colorbar\":{\"outlinewidth\":0,\"ticks\":\"\"}}}],\"scatter3d\":[{\"type\":\"scatter3d\",\"line\":{\"colorbar\":{\"outlinewidth\":0,\"ticks\":\"\"}},\"marker\":{\"colorbar\":{\"outlinewidth\":0,\"ticks\":\"\"}}}],\"scattermapbox\":[{\"type\":\"scattermapbox\",\"marker\":{\"colorbar\":{\"outlinewidth\":0,\"ticks\":\"\"}}}],\"scatterternary\":[{\"type\":\"scatterternary\",\"marker\":{\"colorbar\":{\"outlinewidth\":0,\"ticks\":\"\"}}}],\"scattercarpet\":[{\"type\":\"scattercarpet\",\"marker\":{\"colorbar\":{\"outlinewidth\":0,\"ticks\":\"\"}}}],\"carpet\":[{\"aaxis\":{\"endlinecolor\":\"#2a3f5f\",\"gridcolor\":\"white\",\"linecolor\":\"white\",\"minorgridcolor\":\"white\",\"startlinecolor\":\"#2a3f5f\"},\"baxis\":{\"endlinecolor\":\"#2a3f5f\",\"gridcolor\":\"white\",\"linecolor\":\"white\",\"minorgridcolor\":\"white\",\"startlinecolor\":\"#2a3f5f\"},\"type\":\"carpet\"}],\"table\":[{\"cells\":{\"fill\":{\"color\":\"#EBF0F8\"},\"line\":{\"color\":\"white\"}},\"header\":{\"fill\":{\"color\":\"#C8D4E3\"},\"line\":{\"color\":\"white\"}},\"type\":\"table\"}],\"barpolar\":[{\"marker\":{\"line\":{\"color\":\"#E5ECF6\",\"width\":0.5},\"pattern\":{\"fillmode\":\"overlay\",\"size\":10,\"solidity\":0.2}},\"type\":\"barpolar\"}],\"pie\":[{\"automargin\":true,\"type\":\"pie\"}]},\"layout\":{\"autotypenumbers\":\"strict\",\"colorway\":[\"#636efa\",\"#EF553B\",\"#00cc96\",\"#ab63fa\",\"#FFA15A\",\"#19d3f3\",\"#FF6692\",\"#B6E880\",\"#FF97FF\",\"#FECB52\"],\"font\":{\"color\":\"#2a3f5f\"},\"hovermode\":\"closest\",\"hoverlabel\":{\"align\":\"left\"},\"paper_bgcolor\":\"white\",\"plot_bgcolor\":\"#E5ECF6\",\"polar\":{\"bgcolor\":\"#E5ECF6\",\"angularaxis\":{\"gridcolor\":\"white\",\"linecolor\":\"white\",\"ticks\":\"\"},\"radialaxis\":{\"gridcolor\":\"white\",\"linecolor\":\"white\",\"ticks\":\"\"}},\"ternary\":{\"bgcolor\":\"#E5ECF6\",\"aaxis\":{\"gridcolor\":\"white\",\"linecolor\":\"white\",\"ticks\":\"\"},\"baxis\":{\"gridcolor\":\"white\",\"linecolor\":\"white\",\"ticks\":\"\"},\"caxis\":{\"gridcolor\":\"white\",\"linecolor\":\"white\",\"ticks\":\"\"}},\"coloraxis\":{\"colorbar\":{\"outlinewidth\":0,\"ticks\":\"\"}},\"colorscale\":{\"sequential\":[[0.0,\"#0d0887\"],[0.1111111111111111,\"#46039f\"],[0.2222222222222222,\"#7201a8\"],[0.3333333333333333,\"#9c179e\"],[0.4444444444444444,\"#bd3786\"],[0.5555555555555556,\"#d8576b\"],[0.6666666666666666,\"#ed7953\"],[0.7777777777777778,\"#fb9f3a\"],[0.8888888888888888,\"#fdca26\"],[1.0,\"#f0f921\"]],\"sequentialminus\":[[0.0,\"#0d0887\"],[0.1111111111111111,\"#46039f\"],[0.2222222222222222,\"#7201a8\"],[0.3333333333333333,\"#9c179e\"],[0.4444444444444444,\"#bd3786\"],[0.5555555555555556,\"#d8576b\"],[0.6666666666666666,\"#ed7953\"],[0.7777777777777778,\"#fb9f3a\"],[0.8888888888888888,\"#fdca26\"],[1.0,\"#f0f921\"]],\"diverging\":[[0,\"#8e0152\"],[0.1,\"#c51b7d\"],[0.2,\"#de77ae\"],[0.3,\"#f1b6da\"],[0.4,\"#fde0ef\"],[0.5,\"#f7f7f7\"],[0.6,\"#e6f5d0\"],[0.7,\"#b8e186\"],[0.8,\"#7fbc41\"],[0.9,\"#4d9221\"],[1,\"#276419\"]]},\"xaxis\":{\"gridcolor\":\"white\",\"linecolor\":\"white\",\"ticks\":\"\",\"title\":{\"standoff\":15},\"zerolinecolor\":\"white\",\"automargin\":true,\"zerolinewidth\":2},\"yaxis\":{\"gridcolor\":\"white\",\"linecolor\":\"white\",\"ticks\":\"\",\"title\":{\"standoff\":15},\"zerolinecolor\":\"white\",\"automargin\":true,\"zerolinewidth\":2},\"scene\":{\"xaxis\":{\"backgroundcolor\":\"#E5ECF6\",\"gridcolor\":\"white\",\"linecolor\":\"white\",\"showbackground\":true,\"ticks\":\"\",\"zerolinecolor\":\"white\",\"gridwidth\":2},\"yaxis\":{\"backgroundcolor\":\"#E5ECF6\",\"gridcolor\":\"white\",\"linecolor\":\"white\",\"showbackground\":true,\"ticks\":\"\",\"zerolinecolor\":\"white\",\"gridwidth\":2},\"zaxis\":{\"backgroundcolor\":\"#E5ECF6\",\"gridcolor\":\"white\",\"linecolor\":\"white\",\"showbackground\":true,\"ticks\":\"\",\"zerolinecolor\":\"white\",\"gridwidth\":2}},\"shapedefaults\":{\"line\":{\"color\":\"#2a3f5f\"}},\"annotationdefaults\":{\"arrowcolor\":\"#2a3f5f\",\"arrowhead\":0,\"arrowwidth\":1},\"geo\":{\"bgcolor\":\"white\",\"landcolor\":\"#E5ECF6\",\"subunitcolor\":\"white\",\"showland\":true,\"showlakes\":true,\"lakecolor\":\"white\"},\"title\":{\"x\":0.05},\"mapbox\":{\"style\":\"light\"}}},\"xaxis\":{\"anchor\":\"y\",\"domain\":[0.0,1.0],\"title\":{\"text\":\"Date & Time\"}},\"yaxis\":{\"anchor\":\"x\",\"domain\":[0.0,1.0],\"title\":{\"text\":\"Compound Sentiment Score\"}},\"legend\":{\"tracegroupgap\":0},\"title\":{\"text\":\"Sentiment Progression Over Time\"},\"showlegend\":false},                        {\"responsive\": true}                    ).then(function(){\n",
              "                            \n",
              "var gd = document.getElementById('581f93b4-8682-4b0a-8546-128068b1991f');\n",
              "var x = new MutationObserver(function (mutations, observer) {{\n",
              "        var display = window.getComputedStyle(gd).display;\n",
              "        if (!display || display === 'none') {{\n",
              "            console.log([gd, 'removed!']);\n",
              "            Plotly.purge(gd);\n",
              "            observer.disconnect();\n",
              "        }}\n",
              "}});\n",
              "\n",
              "// Listen for the removal of the full notebook cells\n",
              "var notebookContainer = gd.closest('#notebook-container');\n",
              "if (notebookContainer) {{\n",
              "    x.observe(notebookContainer, {childList: true});\n",
              "}}\n",
              "\n",
              "// Listen for the clearing of the current output cell\n",
              "var outputEl = gd.closest('.output');\n",
              "if (outputEl) {{\n",
              "    x.observe(outputEl, {childList: true});\n",
              "}}\n",
              "\n",
              "                        })                };                            </script>        </div>\n",
              "</body>\n",
              "</html>"
            ]
          },
          "metadata": {}
        }
      ]
    }
  ],
  "metadata": {
    "colab": {
      "provenance": []
    },
    "kernelspec": {
      "display_name": "Python 3",
      "name": "python3"
    },
    "language_info": {
      "name": "python"
    }
  },
  "nbformat": 4,
  "nbformat_minor": 0
}